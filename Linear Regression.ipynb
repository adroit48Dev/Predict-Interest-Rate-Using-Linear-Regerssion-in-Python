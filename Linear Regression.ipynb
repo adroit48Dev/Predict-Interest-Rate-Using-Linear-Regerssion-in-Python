{
 "cells": [
  {
   "cell_type": "markdown",
   "metadata": {},
   "source": [
    "## Lending Dataset – Linear Regression"
   ]
  },
  {
   "cell_type": "code",
   "execution_count": 35,
   "metadata": {},
   "outputs": [],
   "source": [
    "%matplotlib inline\n",
    "import numpy as np\n",
    "import pandas as pd\n",
    "from pandas import Series, DataFrame\n",
    "from sklearn import linear_model\n",
    "from sklearn.model_selection import cross_val_score\n",
    "from sklearn.model_selection import train_test_split\n",
    "from sklearn.preprocessing import StandardScaler\n",
    "from sklearn.decomposition import PCA\n",
    "import statsmodels.api as sm\n",
    "import matplotlib.pyplot as plt\n",
    "import seaborn as sns; sns.set()"
   ]
  },
  {
   "cell_type": "markdown",
   "metadata": {},
   "source": [
    "### Step A: Read in Dataset and Display DataFrame Attributes"
   ]
  },
  {
   "cell_type": "code",
   "execution_count": 36,
   "metadata": {},
   "outputs": [
    {
     "data": {
      "text/html": [
       "<div>\n",
       "<style scoped>\n",
       "    .dataframe tbody tr th:only-of-type {\n",
       "        vertical-align: middle;\n",
       "    }\n",
       "\n",
       "    .dataframe tbody tr th {\n",
       "        vertical-align: top;\n",
       "    }\n",
       "\n",
       "    .dataframe thead th {\n",
       "        text-align: right;\n",
       "    }\n",
       "</style>\n",
       "<table border=\"1\" class=\"dataframe\">\n",
       "  <thead>\n",
       "    <tr style=\"text-align: right;\">\n",
       "      <th></th>\n",
       "      <th>LoanAmt</th>\n",
       "      <th>IntRate</th>\n",
       "      <th>LoanTerm</th>\n",
       "      <th>Debt2Inc</th>\n",
       "      <th>Home</th>\n",
       "      <th>MonthlyInc</th>\n",
       "      <th>FICO-Range</th>\n",
       "      <th>RevCredBal</th>\n",
       "      <th>EmpLen</th>\n",
       "    </tr>\n",
       "    <tr>\n",
       "      <th>ID</th>\n",
       "      <th></th>\n",
       "      <th></th>\n",
       "      <th></th>\n",
       "      <th></th>\n",
       "      <th></th>\n",
       "      <th></th>\n",
       "      <th></th>\n",
       "      <th></th>\n",
       "      <th></th>\n",
       "    </tr>\n",
       "  </thead>\n",
       "  <tbody>\n",
       "    <tr>\n",
       "      <th>81174</th>\n",
       "      <td>20000</td>\n",
       "      <td>8.90%</td>\n",
       "      <td>36 months</td>\n",
       "      <td>14.90%</td>\n",
       "      <td>MORTGAGE</td>\n",
       "      <td>6541.67</td>\n",
       "      <td>735-739</td>\n",
       "      <td>14272.0</td>\n",
       "      <td>&lt; 1 year</td>\n",
       "    </tr>\n",
       "    <tr>\n",
       "      <th>99592</th>\n",
       "      <td>19200</td>\n",
       "      <td>12.12%</td>\n",
       "      <td>36 months</td>\n",
       "      <td>28.36%</td>\n",
       "      <td>MORTGAGE</td>\n",
       "      <td>4583.33</td>\n",
       "      <td>715-719</td>\n",
       "      <td>11140.0</td>\n",
       "      <td>2 years</td>\n",
       "    </tr>\n",
       "    <tr>\n",
       "      <th>80059</th>\n",
       "      <td>35000</td>\n",
       "      <td>21.98%</td>\n",
       "      <td>60 months</td>\n",
       "      <td>23.81%</td>\n",
       "      <td>MORTGAGE</td>\n",
       "      <td>11500.00</td>\n",
       "      <td>690-694</td>\n",
       "      <td>21977.0</td>\n",
       "      <td>2 years</td>\n",
       "    </tr>\n",
       "    <tr>\n",
       "      <th>33182</th>\n",
       "      <td>12000</td>\n",
       "      <td>11.71%</td>\n",
       "      <td>36 months</td>\n",
       "      <td>18.78%</td>\n",
       "      <td>RENT</td>\n",
       "      <td>3195.00</td>\n",
       "      <td>695-699</td>\n",
       "      <td>14469.0</td>\n",
       "      <td>9 years</td>\n",
       "    </tr>\n",
       "    <tr>\n",
       "      <th>62403</th>\n",
       "      <td>6000</td>\n",
       "      <td>15.31%</td>\n",
       "      <td>36 months</td>\n",
       "      <td>20.05%</td>\n",
       "      <td>OWN</td>\n",
       "      <td>4891.67</td>\n",
       "      <td>670-674</td>\n",
       "      <td>10391.0</td>\n",
       "      <td>3 years</td>\n",
       "    </tr>\n",
       "  </tbody>\n",
       "</table>\n",
       "</div>"
      ],
      "text/plain": [
       "       LoanAmt IntRate   LoanTerm Debt2Inc      Home  MonthlyInc FICO-Range  \\\n",
       "ID                                                                            \n",
       "81174    20000   8.90%  36 months   14.90%  MORTGAGE     6541.67    735-739   \n",
       "99592    19200  12.12%  36 months   28.36%  MORTGAGE     4583.33    715-719   \n",
       "80059    35000  21.98%  60 months   23.81%  MORTGAGE    11500.00    690-694   \n",
       "33182    12000  11.71%  36 months   18.78%      RENT     3195.00    695-699   \n",
       "62403     6000  15.31%  36 months   20.05%       OWN     4891.67    670-674   \n",
       "\n",
       "       RevCredBal    EmpLen  \n",
       "ID                           \n",
       "81174     14272.0  < 1 year  \n",
       "99592     11140.0   2 years  \n",
       "80059     21977.0   2 years  \n",
       "33182     14469.0   9 years  \n",
       "62403     10391.0   3 years  "
      ]
     },
     "execution_count": 36,
     "metadata": {},
     "output_type": "execute_result"
    }
   ],
   "source": [
    "cols = ['ID', 'LoanAmt', 'IntRate', 'LoanTerm', 'Debt2Inc', 'Home',\n",
    "        'MonthlyInc', 'FICO-Range', 'RevCredBal', 'EmpLen']\n",
    "loan_data = pd.read_csv('loansData.csv', names = cols, index_col = 'ID')\n",
    "loan_data.head()"
   ]
  },
  {
   "cell_type": "code",
   "execution_count": 37,
   "metadata": {},
   "outputs": [
    {
     "data": {
      "text/plain": [
       "LoanAmt         int64\n",
       "IntRate        object\n",
       "LoanTerm       object\n",
       "Debt2Inc       object\n",
       "Home           object\n",
       "MonthlyInc    float64\n",
       "FICO-Range     object\n",
       "RevCredBal    float64\n",
       "EmpLen         object\n",
       "dtype: object"
      ]
     },
     "execution_count": 37,
     "metadata": {},
     "output_type": "execute_result"
    }
   ],
   "source": [
    "loan_data.dtypes"
   ]
  },
  {
   "cell_type": "code",
   "execution_count": 38,
   "metadata": {},
   "outputs": [
    {
     "data": {
      "text/plain": [
       "(1752, 9)"
      ]
     },
     "execution_count": 38,
     "metadata": {},
     "output_type": "execute_result"
    }
   ],
   "source": [
    "loan_data.shape"
   ]
  },
  {
   "cell_type": "code",
   "execution_count": 39,
   "metadata": {},
   "outputs": [
    {
     "data": {
      "text/plain": [
       "36 months    1430\n",
       "60 months     322\n",
       "Name: LoanTerm, dtype: int64"
      ]
     },
     "execution_count": 39,
     "metadata": {},
     "output_type": "execute_result"
    }
   ],
   "source": [
    "loan_data['LoanTerm'].value_counts()"
   ]
  },
  {
   "cell_type": "code",
   "execution_count": 40,
   "metadata": {},
   "outputs": [
    {
     "data": {
      "text/plain": [
       "RENT        844\n",
       "MORTGAGE    761\n",
       "OWN         147\n",
       "Name: Home, dtype: int64"
      ]
     },
     "execution_count": 40,
     "metadata": {},
     "output_type": "execute_result"
    }
   ],
   "source": [
    "loan_data['Home'].value_counts()"
   ]
  },
  {
   "cell_type": "code",
   "execution_count": 41,
   "metadata": {},
   "outputs": [
    {
     "data": {
      "text/plain": [
       "10+ years    453\n",
       "2 years      175\n",
       "3 years      166\n",
       "< 1 year     165\n",
       "5 years      151\n",
       "4 years      147\n",
       "1 year       130\n",
       "6 years      126\n",
       "7 years      100\n",
       "8 years       86\n",
       "9 years       53\n",
       "Name: EmpLen, dtype: int64"
      ]
     },
     "execution_count": 41,
     "metadata": {},
     "output_type": "execute_result"
    }
   ],
   "source": [
    "loan_data['EmpLen'].value_counts()"
   ]
  },
  {
   "cell_type": "code",
   "execution_count": 42,
   "metadata": {},
   "outputs": [
    {
     "data": {
      "text/html": [
       "<div>\n",
       "<style scoped>\n",
       "    .dataframe tbody tr th:only-of-type {\n",
       "        vertical-align: middle;\n",
       "    }\n",
       "\n",
       "    .dataframe tbody tr th {\n",
       "        vertical-align: top;\n",
       "    }\n",
       "\n",
       "    .dataframe thead th {\n",
       "        text-align: right;\n",
       "    }\n",
       "</style>\n",
       "<table border=\"1\" class=\"dataframe\">\n",
       "  <thead>\n",
       "    <tr style=\"text-align: right;\">\n",
       "      <th></th>\n",
       "      <th>LoanAmt</th>\n",
       "      <th>MonthlyInc</th>\n",
       "      <th>RevCredBal</th>\n",
       "    </tr>\n",
       "  </thead>\n",
       "  <tbody>\n",
       "    <tr>\n",
       "      <th>count</th>\n",
       "      <td>1752.000000</td>\n",
       "      <td>1752.000000</td>\n",
       "      <td>1752.000000</td>\n",
       "    </tr>\n",
       "    <tr>\n",
       "      <th>mean</th>\n",
       "      <td>11609.474886</td>\n",
       "      <td>5520.837854</td>\n",
       "      <td>13932.856164</td>\n",
       "    </tr>\n",
       "    <tr>\n",
       "      <th>std</th>\n",
       "      <td>7443.034671</td>\n",
       "      <td>3186.290186</td>\n",
       "      <td>13708.658521</td>\n",
       "    </tr>\n",
       "    <tr>\n",
       "      <th>min</th>\n",
       "      <td>1000.000000</td>\n",
       "      <td>1000.000000</td>\n",
       "      <td>0.000000</td>\n",
       "    </tr>\n",
       "    <tr>\n",
       "      <th>25%</th>\n",
       "      <td>6000.000000</td>\n",
       "      <td>3416.670000</td>\n",
       "      <td>5539.250000</td>\n",
       "    </tr>\n",
       "    <tr>\n",
       "      <th>50%</th>\n",
       "      <td>10000.000000</td>\n",
       "      <td>4833.330000</td>\n",
       "      <td>10738.500000</td>\n",
       "    </tr>\n",
       "    <tr>\n",
       "      <th>75%</th>\n",
       "      <td>15000.000000</td>\n",
       "      <td>6666.670000</td>\n",
       "      <td>17680.000000</td>\n",
       "    </tr>\n",
       "    <tr>\n",
       "      <th>max</th>\n",
       "      <td>35000.000000</td>\n",
       "      <td>39583.330000</td>\n",
       "      <td>143151.000000</td>\n",
       "    </tr>\n",
       "  </tbody>\n",
       "</table>\n",
       "</div>"
      ],
      "text/plain": [
       "            LoanAmt    MonthlyInc     RevCredBal\n",
       "count   1752.000000   1752.000000    1752.000000\n",
       "mean   11609.474886   5520.837854   13932.856164\n",
       "std     7443.034671   3186.290186   13708.658521\n",
       "min     1000.000000   1000.000000       0.000000\n",
       "25%     6000.000000   3416.670000    5539.250000\n",
       "50%    10000.000000   4833.330000   10738.500000\n",
       "75%    15000.000000   6666.670000   17680.000000\n",
       "max    35000.000000  39583.330000  143151.000000"
      ]
     },
     "execution_count": 42,
     "metadata": {},
     "output_type": "execute_result"
    }
   ],
   "source": [
    "loan_data.describe()"
   ]
  },
  {
   "cell_type": "code",
   "execution_count": 43,
   "metadata": {},
   "outputs": [
    {
     "data": {
      "text/html": [
       "<div>\n",
       "<style scoped>\n",
       "    .dataframe tbody tr th:only-of-type {\n",
       "        vertical-align: middle;\n",
       "    }\n",
       "\n",
       "    .dataframe tbody tr th {\n",
       "        vertical-align: top;\n",
       "    }\n",
       "\n",
       "    .dataframe thead th {\n",
       "        text-align: right;\n",
       "    }\n",
       "</style>\n",
       "<table border=\"1\" class=\"dataframe\">\n",
       "  <thead>\n",
       "    <tr style=\"text-align: right;\">\n",
       "      <th></th>\n",
       "      <th>LoanAmt</th>\n",
       "      <th>IntRate</th>\n",
       "      <th>LoanTerm</th>\n",
       "      <th>Debt2Inc</th>\n",
       "      <th>Home</th>\n",
       "      <th>MonthlyInc</th>\n",
       "      <th>FICO-Range</th>\n",
       "      <th>RevCredBal</th>\n",
       "      <th>EmpLen</th>\n",
       "    </tr>\n",
       "    <tr>\n",
       "      <th>ID</th>\n",
       "      <th></th>\n",
       "      <th></th>\n",
       "      <th></th>\n",
       "      <th></th>\n",
       "      <th></th>\n",
       "      <th></th>\n",
       "      <th></th>\n",
       "      <th></th>\n",
       "      <th></th>\n",
       "    </tr>\n",
       "  </thead>\n",
       "  <tbody>\n",
       "    <tr>\n",
       "      <th>17864</th>\n",
       "      <td>12000</td>\n",
       "      <td>8.88%</td>\n",
       "      <td>60 months</td>\n",
       "      <td>19.38%</td>\n",
       "      <td>MORTGAGE</td>\n",
       "      <td>4000.0</td>\n",
       "      <td>795-799</td>\n",
       "      <td>143151.0</td>\n",
       "      <td>4 years</td>\n",
       "    </tr>\n",
       "  </tbody>\n",
       "</table>\n",
       "</div>"
      ],
      "text/plain": [
       "       LoanAmt IntRate   LoanTerm Debt2Inc      Home  MonthlyInc FICO-Range  \\\n",
       "ID                                                                            \n",
       "17864    12000   8.88%  60 months   19.38%  MORTGAGE      4000.0    795-799   \n",
       "\n",
       "       RevCredBal   EmpLen  \n",
       "ID                          \n",
       "17864    143151.0  4 years  "
      ]
     },
     "execution_count": 43,
     "metadata": {},
     "output_type": "execute_result"
    }
   ],
   "source": [
    "loan_data[loan_data.RevCredBal == loan_data.RevCredBal.max()]"
   ]
  },
  {
   "cell_type": "markdown",
   "metadata": {},
   "source": [
    "Pick two interesting things from the descriptive statistics output and display the records in the dataset that correspond to the statistics."
   ]
  },
  {
   "cell_type": "code",
   "execution_count": 44,
   "metadata": {},
   "outputs": [
    {
     "data": {
      "text/html": [
       "<div>\n",
       "<style scoped>\n",
       "    .dataframe tbody tr th:only-of-type {\n",
       "        vertical-align: middle;\n",
       "    }\n",
       "\n",
       "    .dataframe tbody tr th {\n",
       "        vertical-align: top;\n",
       "    }\n",
       "\n",
       "    .dataframe thead th {\n",
       "        text-align: right;\n",
       "    }\n",
       "</style>\n",
       "<table border=\"1\" class=\"dataframe\">\n",
       "  <thead>\n",
       "    <tr style=\"text-align: right;\">\n",
       "      <th></th>\n",
       "      <th>LoanAmt</th>\n",
       "      <th>IntRate</th>\n",
       "      <th>LoanTerm</th>\n",
       "      <th>Debt2Inc</th>\n",
       "      <th>Home</th>\n",
       "      <th>MonthlyInc</th>\n",
       "      <th>FICO-Range</th>\n",
       "      <th>RevCredBal</th>\n",
       "      <th>EmpLen</th>\n",
       "    </tr>\n",
       "    <tr>\n",
       "      <th>ID</th>\n",
       "      <th></th>\n",
       "      <th></th>\n",
       "      <th></th>\n",
       "      <th></th>\n",
       "      <th></th>\n",
       "      <th></th>\n",
       "      <th></th>\n",
       "      <th></th>\n",
       "      <th></th>\n",
       "    </tr>\n",
       "  </thead>\n",
       "  <tbody>\n",
       "    <tr>\n",
       "      <th>53808</th>\n",
       "      <td>6000</td>\n",
       "      <td>13.11%</td>\n",
       "      <td>36 months</td>\n",
       "      <td>12.40%</td>\n",
       "      <td>RENT</td>\n",
       "      <td>1000.0</td>\n",
       "      <td>685-689</td>\n",
       "      <td>3622.0</td>\n",
       "      <td>1 year</td>\n",
       "    </tr>\n",
       "    <tr>\n",
       "      <th>67265</th>\n",
       "      <td>2100</td>\n",
       "      <td>14.33%</td>\n",
       "      <td>36 months</td>\n",
       "      <td>3.50%</td>\n",
       "      <td>OWN</td>\n",
       "      <td>1000.0</td>\n",
       "      <td>690-694</td>\n",
       "      <td>893.0</td>\n",
       "      <td>&lt; 1 year</td>\n",
       "    </tr>\n",
       "  </tbody>\n",
       "</table>\n",
       "</div>"
      ],
      "text/plain": [
       "       LoanAmt IntRate   LoanTerm Debt2Inc  Home  MonthlyInc FICO-Range  \\\n",
       "ID                                                                        \n",
       "53808     6000  13.11%  36 months   12.40%  RENT      1000.0    685-689   \n",
       "67265     2100  14.33%  36 months    3.50%   OWN      1000.0    690-694   \n",
       "\n",
       "       RevCredBal    EmpLen  \n",
       "ID                           \n",
       "53808      3622.0    1 year  \n",
       "67265       893.0  < 1 year  "
      ]
     },
     "execution_count": 44,
     "metadata": {},
     "output_type": "execute_result"
    }
   ],
   "source": [
    "loan_data[loan_data.MonthlyInc == loan_data.MonthlyInc.min()]"
   ]
  },
  {
   "cell_type": "code",
   "execution_count": 45,
   "metadata": {},
   "outputs": [
    {
     "data": {
      "text/html": [
       "<div>\n",
       "<style scoped>\n",
       "    .dataframe tbody tr th:only-of-type {\n",
       "        vertical-align: middle;\n",
       "    }\n",
       "\n",
       "    .dataframe tbody tr th {\n",
       "        vertical-align: top;\n",
       "    }\n",
       "\n",
       "    .dataframe thead th {\n",
       "        text-align: right;\n",
       "    }\n",
       "</style>\n",
       "<table border=\"1\" class=\"dataframe\">\n",
       "  <thead>\n",
       "    <tr style=\"text-align: right;\">\n",
       "      <th></th>\n",
       "      <th>LoanAmt</th>\n",
       "      <th>IntRate</th>\n",
       "      <th>LoanTerm</th>\n",
       "      <th>Debt2Inc</th>\n",
       "      <th>Home</th>\n",
       "      <th>MonthlyInc</th>\n",
       "      <th>FICO-Range</th>\n",
       "      <th>RevCredBal</th>\n",
       "      <th>EmpLen</th>\n",
       "    </tr>\n",
       "    <tr>\n",
       "      <th>ID</th>\n",
       "      <th></th>\n",
       "      <th></th>\n",
       "      <th></th>\n",
       "      <th></th>\n",
       "      <th></th>\n",
       "      <th></th>\n",
       "      <th></th>\n",
       "      <th></th>\n",
       "      <th></th>\n",
       "    </tr>\n",
       "  </thead>\n",
       "  <tbody>\n",
       "    <tr>\n",
       "      <th>41411</th>\n",
       "      <td>35000</td>\n",
       "      <td>16.29%</td>\n",
       "      <td>36 months</td>\n",
       "      <td>17.17%</td>\n",
       "      <td>MORTGAGE</td>\n",
       "      <td>39583.33</td>\n",
       "      <td>705-709</td>\n",
       "      <td>55965.0</td>\n",
       "      <td>10+ years</td>\n",
       "    </tr>\n",
       "  </tbody>\n",
       "</table>\n",
       "</div>"
      ],
      "text/plain": [
       "       LoanAmt IntRate   LoanTerm Debt2Inc      Home  MonthlyInc FICO-Range  \\\n",
       "ID                                                                            \n",
       "41411    35000  16.29%  36 months   17.17%  MORTGAGE    39583.33    705-709   \n",
       "\n",
       "       RevCredBal     EmpLen  \n",
       "ID                            \n",
       "41411     55965.0  10+ years  "
      ]
     },
     "execution_count": 45,
     "metadata": {},
     "output_type": "execute_result"
    }
   ],
   "source": [
    "loan_data[loan_data.MonthlyInc == loan_data.MonthlyInc.max()]"
   ]
  },
  {
   "cell_type": "markdown",
   "metadata": {},
   "source": [
    "### Step B: Clean the Data"
   ]
  },
  {
   "cell_type": "markdown",
   "metadata": {},
   "source": [
    "1- Remove % sign from IntRate"
   ]
  },
  {
   "cell_type": "code",
   "execution_count": 46,
   "metadata": {},
   "outputs": [
    {
     "data": {
      "text/plain": [
       "array(['8.90%', '12.12%', '21.98%', '11.71%', '15.31%'], dtype=object)"
      ]
     },
     "execution_count": 46,
     "metadata": {},
     "output_type": "execute_result"
    }
   ],
   "source": [
    "ir = loan_data['IntRate'].values\n",
    "ir[:5]"
   ]
  },
  {
   "cell_type": "code",
   "execution_count": 47,
   "metadata": {},
   "outputs": [
    {
     "data": {
      "text/plain": [
       "['8.90', '12.12', '21.98', '11.71', '15.31']"
      ]
     },
     "execution_count": 47,
     "metadata": {},
     "output_type": "execute_result"
    }
   ],
   "source": [
    "nopct = [x[:-1] for x in ir]\n",
    "nopct[:5]"
   ]
  },
  {
   "cell_type": "code",
   "execution_count": 48,
   "metadata": {},
   "outputs": [
    {
     "data": {
      "text/plain": [
       "[8.9, 12.12, 21.98, 11.71, 15.31]"
      ]
     },
     "execution_count": 48,
     "metadata": {},
     "output_type": "execute_result"
    }
   ],
   "source": [
    "irFloat = [float(x) for x in nopct]\n",
    "irFloat[:5]"
   ]
  },
  {
   "cell_type": "code",
   "execution_count": 49,
   "metadata": {},
   "outputs": [
    {
     "data": {
      "text/plain": [
       "dtype('float64')"
      ]
     },
     "execution_count": 49,
     "metadata": {},
     "output_type": "execute_result"
    }
   ],
   "source": [
    "loan_data['IntRate'] = irFloat\n",
    "loan_data['IntRate'].dtype"
   ]
  },
  {
   "cell_type": "markdown",
   "metadata": {},
   "source": [
    "2- Remove % sign from Debt2Inc"
   ]
  },
  {
   "cell_type": "code",
   "execution_count": 50,
   "metadata": {},
   "outputs": [
    {
     "data": {
      "text/plain": [
       "array(['14.90%', '28.36%', '23.81%', '18.78%', '20.05%'], dtype=object)"
      ]
     },
     "execution_count": 50,
     "metadata": {},
     "output_type": "execute_result"
    }
   ],
   "source": [
    "di = loan_data['Debt2Inc'].values\n",
    "di[:5]"
   ]
  },
  {
   "cell_type": "code",
   "execution_count": 51,
   "metadata": {},
   "outputs": [
    {
     "data": {
      "text/plain": [
       "['14.90', '28.36', '23.81', '18.78', '20.05']"
      ]
     },
     "execution_count": 51,
     "metadata": {},
     "output_type": "execute_result"
    }
   ],
   "source": [
    "nopct = [x[:-1] for x in di]\n",
    "nopct[:5]"
   ]
  },
  {
   "cell_type": "code",
   "execution_count": 52,
   "metadata": {},
   "outputs": [
    {
     "data": {
      "text/plain": [
       "[14.9, 28.36, 23.81, 18.78, 20.05]"
      ]
     },
     "execution_count": 52,
     "metadata": {},
     "output_type": "execute_result"
    }
   ],
   "source": [
    "diFloat = [float(x) for x in nopct]\n",
    "diFloat[:5]"
   ]
  },
  {
   "cell_type": "code",
   "execution_count": 53,
   "metadata": {},
   "outputs": [
    {
     "data": {
      "text/plain": [
       "dtype('float64')"
      ]
     },
     "execution_count": 53,
     "metadata": {},
     "output_type": "execute_result"
    }
   ],
   "source": [
    "loan_data['Debt2Inc'] = diFloat\n",
    "loan_data['Debt2Inc'].dtype"
   ]
  },
  {
   "cell_type": "markdown",
   "metadata": {},
   "source": [
    "3- Split FICO-Range scores, find the mean, and replace the column with the mean"
   ]
  },
  {
   "cell_type": "code",
   "execution_count": 54,
   "metadata": {},
   "outputs": [
    {
     "data": {
      "text/plain": [
       "array(['735-739', '715-719', '690-694', '695-699', '670-674'],\n",
       "      dtype=object)"
      ]
     },
     "execution_count": 54,
     "metadata": {},
     "output_type": "execute_result"
    }
   ],
   "source": [
    "FICO_str = loan_data['FICO-Range'].values\n",
    "FICO_str[:5]"
   ]
  },
  {
   "cell_type": "code",
   "execution_count": 55,
   "metadata": {},
   "outputs": [
    {
     "data": {
      "text/plain": [
       "[['735', '739'],\n",
       " ['715', '719'],\n",
       " ['690', '694'],\n",
       " ['695', '699'],\n",
       " ['670', '674']]"
      ]
     },
     "execution_count": 55,
     "metadata": {},
     "output_type": "execute_result"
    }
   ],
   "source": [
    "scores = [f_str.split('-') for f_str in FICO_str]\n",
    "scores[:5]"
   ]
  },
  {
   "cell_type": "code",
   "execution_count": 56,
   "metadata": {},
   "outputs": [
    {
     "data": {
      "text/plain": [
       "[[735, 739], [715, 719], [690, 694], [695, 699], [670, 674]]"
      ]
     },
     "execution_count": 56,
     "metadata": {},
     "output_type": "execute_result"
    }
   ],
   "source": [
    "int_scores = [[int(sc) for sc in inner] for inner in scores]\n",
    "int_scores[:5]"
   ]
  },
  {
   "cell_type": "code",
   "execution_count": 57,
   "metadata": {},
   "outputs": [
    {
     "data": {
      "text/plain": [
       "[737, 717, 692, 697, 672]"
      ]
     },
     "execution_count": 57,
     "metadata": {},
     "output_type": "execute_result"
    }
   ],
   "source": [
    "meanFICO = [int((sc[0] + sc[1]) / 2) for sc in int_scores]\n",
    "meanFICO[:5]"
   ]
  },
  {
   "cell_type": "code",
   "execution_count": 58,
   "metadata": {},
   "outputs": [
    {
     "data": {
      "text/plain": [
       "Index(['LoanAmt', 'IntRate', 'LoanTerm', 'Debt2Inc', 'Home', 'MonthlyInc',\n",
       "       'RevCredBal', 'EmpLen', 'FICO'],\n",
       "      dtype='object')"
      ]
     },
     "execution_count": 58,
     "metadata": {},
     "output_type": "execute_result"
    }
   ],
   "source": [
    "loan_data['FICO'] = meanFICO\n",
    "loan_data = loan_data.drop('FICO-Range', axis=1)\n",
    "loan_data.columns"
   ]
  },
  {
   "cell_type": "markdown",
   "metadata": {},
   "source": [
    "4- Remove the ‘months’ word from LoanTerm"
   ]
  },
  {
   "cell_type": "code",
   "execution_count": 59,
   "metadata": {},
   "outputs": [
    {
     "data": {
      "text/plain": [
       "array(['36 months', '36 months', '60 months', '36 months', '36 months'],\n",
       "      dtype=object)"
      ]
     },
     "execution_count": 59,
     "metadata": {},
     "output_type": "execute_result"
    }
   ],
   "source": [
    "loan_str = loan_data['LoanTerm'].values\n",
    "loan_str[:5]"
   ]
  },
  {
   "cell_type": "code",
   "execution_count": 60,
   "metadata": {},
   "outputs": [
    {
     "data": {
      "text/plain": [
       "[['36', 'months'],\n",
       " ['36', 'months'],\n",
       " ['60', 'months'],\n",
       " ['36', 'months'],\n",
       " ['36', 'months']]"
      ]
     },
     "execution_count": 60,
     "metadata": {},
     "output_type": "execute_result"
    }
   ],
   "source": [
    "loans = [l_str.split(' ') for l_str in loan_str]\n",
    "loans[:5]"
   ]
  },
  {
   "cell_type": "code",
   "execution_count": 61,
   "metadata": {},
   "outputs": [
    {
     "data": {
      "text/plain": [
       "[36, 36, 60, 36, 36]"
      ]
     },
     "execution_count": 61,
     "metadata": {},
     "output_type": "execute_result"
    }
   ],
   "source": [
    "months = [int(inner[0]) for inner in loans]\n",
    "months[:5]"
   ]
  },
  {
   "cell_type": "code",
   "execution_count": 62,
   "metadata": {},
   "outputs": [
    {
     "data": {
      "text/plain": [
       "[0, 0, 1, 0, 0]"
      ]
     },
     "execution_count": 62,
     "metadata": {},
     "output_type": "execute_result"
    }
   ],
   "source": [
    "months = [0 if m == 36 else 1 for m in months]\n",
    "months[:5]"
   ]
  },
  {
   "cell_type": "code",
   "execution_count": 63,
   "metadata": {
    "scrolled": true
   },
   "outputs": [
    {
     "data": {
      "text/plain": [
       "ID\n",
       "81174    0\n",
       "99592    0\n",
       "80059    1\n",
       "33182    0\n",
       "62403    0\n",
       "Name: LoanTerm, dtype: int64"
      ]
     },
     "execution_count": 63,
     "metadata": {},
     "output_type": "execute_result"
    }
   ],
   "source": [
    "loan_data['LoanTerm'] = months\n",
    "loan_data['LoanTerm'].head()"
   ]
  },
  {
   "cell_type": "markdown",
   "metadata": {},
   "source": [
    "5- Change MORTGAGE to MORT in Home"
   ]
  },
  {
   "cell_type": "code",
   "execution_count": 64,
   "metadata": {},
   "outputs": [
    {
     "data": {
      "text/plain": [
       "ID\n",
       "81174    MORT\n",
       "99592    MORT\n",
       "80059    MORT\n",
       "33182    RENT\n",
       "62403     OWN\n",
       "Name: Home, dtype: object"
      ]
     },
     "execution_count": 64,
     "metadata": {},
     "output_type": "execute_result"
    }
   ],
   "source": [
    "loan_data.loc[loan_data.Home == 'MORTGAGE','Home'] = 'MORT'\n",
    "loan_data['Home'].head()"
   ]
  },
  {
   "cell_type": "markdown",
   "metadata": {},
   "source": [
    "6- Fix EmpLen variable values to be numeric"
   ]
  },
  {
   "cell_type": "code",
   "execution_count": 65,
   "metadata": {},
   "outputs": [
    {
     "data": {
      "text/plain": [
       "array(['< 1 year', '2 years', '2 years', '9 years', '3 years'],\n",
       "      dtype=object)"
      ]
     },
     "execution_count": 65,
     "metadata": {},
     "output_type": "execute_result"
    }
   ],
   "source": [
    "years = loan_data['EmpLen'].values\n",
    "years[:5]"
   ]
  },
  {
   "cell_type": "code",
   "execution_count": 66,
   "metadata": {},
   "outputs": [
    {
     "data": {
      "text/plain": [
       "[['<', '1', 'year'],\n",
       " ['2', 'years'],\n",
       " ['2', 'years'],\n",
       " ['9', 'years'],\n",
       " ['3', 'years']]"
      ]
     },
     "execution_count": 66,
     "metadata": {},
     "output_type": "execute_result"
    }
   ],
   "source": [
    "year_list = [y.split(' ') for y in years]\n",
    "year_list[:5]"
   ]
  },
  {
   "cell_type": "code",
   "execution_count": 67,
   "metadata": {},
   "outputs": [
    {
     "data": {
      "text/plain": [
       "['<', '2', '2', '9', '3']"
      ]
     },
     "execution_count": 67,
     "metadata": {},
     "output_type": "execute_result"
    }
   ],
   "source": [
    "num_str = [x[0] for x in year_list]\n",
    "num_str[:5]"
   ]
  },
  {
   "cell_type": "code",
   "execution_count": 68,
   "metadata": {},
   "outputs": [
    {
     "data": {
      "text/plain": [
       "[0, 2, 2, 9, 3]"
      ]
     },
     "execution_count": 68,
     "metadata": {},
     "output_type": "execute_result"
    }
   ],
   "source": [
    "emp_len = []\n",
    "for num in num_str:\n",
    "    if num == '<':\n",
    "        emp_len.append(0)\n",
    "    elif num == '10+':\n",
    "        emp_len.append(10)\n",
    "    else:\n",
    "        emp_len.append(int (num))\n",
    "emp_len[:5]"
   ]
  },
  {
   "cell_type": "code",
   "execution_count": 69,
   "metadata": {},
   "outputs": [
    {
     "data": {
      "text/plain": [
       "ID\n",
       "81174    0\n",
       "99592    2\n",
       "80059    2\n",
       "33182    9\n",
       "62403    3\n",
       "Name: EmpLen, dtype: int64"
      ]
     },
     "execution_count": 69,
     "metadata": {},
     "output_type": "execute_result"
    }
   ],
   "source": [
    "loan_data['EmpLen'] = emp_len\n",
    "loan_data['EmpLen'].head()"
   ]
  },
  {
   "cell_type": "code",
   "execution_count": 70,
   "metadata": {},
   "outputs": [
    {
     "data": {
      "text/html": [
       "<div>\n",
       "<style scoped>\n",
       "    .dataframe tbody tr th:only-of-type {\n",
       "        vertical-align: middle;\n",
       "    }\n",
       "\n",
       "    .dataframe tbody tr th {\n",
       "        vertical-align: top;\n",
       "    }\n",
       "\n",
       "    .dataframe thead th {\n",
       "        text-align: right;\n",
       "    }\n",
       "</style>\n",
       "<table border=\"1\" class=\"dataframe\">\n",
       "  <thead>\n",
       "    <tr style=\"text-align: right;\">\n",
       "      <th></th>\n",
       "      <th>LoanAmt</th>\n",
       "      <th>IntRate</th>\n",
       "      <th>LoanTerm</th>\n",
       "      <th>Debt2Inc</th>\n",
       "      <th>Home</th>\n",
       "      <th>MonthlyInc</th>\n",
       "      <th>RevCredBal</th>\n",
       "      <th>EmpLen</th>\n",
       "      <th>FICO</th>\n",
       "    </tr>\n",
       "    <tr>\n",
       "      <th>ID</th>\n",
       "      <th></th>\n",
       "      <th></th>\n",
       "      <th></th>\n",
       "      <th></th>\n",
       "      <th></th>\n",
       "      <th></th>\n",
       "      <th></th>\n",
       "      <th></th>\n",
       "      <th></th>\n",
       "    </tr>\n",
       "  </thead>\n",
       "  <tbody>\n",
       "    <tr>\n",
       "      <th>81174</th>\n",
       "      <td>20000</td>\n",
       "      <td>8.90</td>\n",
       "      <td>0</td>\n",
       "      <td>14.90</td>\n",
       "      <td>MORT</td>\n",
       "      <td>6541.67</td>\n",
       "      <td>14272.0</td>\n",
       "      <td>0</td>\n",
       "      <td>737</td>\n",
       "    </tr>\n",
       "    <tr>\n",
       "      <th>99592</th>\n",
       "      <td>19200</td>\n",
       "      <td>12.12</td>\n",
       "      <td>0</td>\n",
       "      <td>28.36</td>\n",
       "      <td>MORT</td>\n",
       "      <td>4583.33</td>\n",
       "      <td>11140.0</td>\n",
       "      <td>2</td>\n",
       "      <td>717</td>\n",
       "    </tr>\n",
       "    <tr>\n",
       "      <th>80059</th>\n",
       "      <td>35000</td>\n",
       "      <td>21.98</td>\n",
       "      <td>1</td>\n",
       "      <td>23.81</td>\n",
       "      <td>MORT</td>\n",
       "      <td>11500.00</td>\n",
       "      <td>21977.0</td>\n",
       "      <td>2</td>\n",
       "      <td>692</td>\n",
       "    </tr>\n",
       "    <tr>\n",
       "      <th>33182</th>\n",
       "      <td>12000</td>\n",
       "      <td>11.71</td>\n",
       "      <td>0</td>\n",
       "      <td>18.78</td>\n",
       "      <td>RENT</td>\n",
       "      <td>3195.00</td>\n",
       "      <td>14469.0</td>\n",
       "      <td>9</td>\n",
       "      <td>697</td>\n",
       "    </tr>\n",
       "    <tr>\n",
       "      <th>62403</th>\n",
       "      <td>6000</td>\n",
       "      <td>15.31</td>\n",
       "      <td>0</td>\n",
       "      <td>20.05</td>\n",
       "      <td>OWN</td>\n",
       "      <td>4891.67</td>\n",
       "      <td>10391.0</td>\n",
       "      <td>3</td>\n",
       "      <td>672</td>\n",
       "    </tr>\n",
       "  </tbody>\n",
       "</table>\n",
       "</div>"
      ],
      "text/plain": [
       "       LoanAmt  IntRate  LoanTerm  Debt2Inc  Home  MonthlyInc  RevCredBal  \\\n",
       "ID                                                                          \n",
       "81174    20000     8.90         0     14.90  MORT     6541.67     14272.0   \n",
       "99592    19200    12.12         0     28.36  MORT     4583.33     11140.0   \n",
       "80059    35000    21.98         1     23.81  MORT    11500.00     21977.0   \n",
       "33182    12000    11.71         0     18.78  RENT     3195.00     14469.0   \n",
       "62403     6000    15.31         0     20.05   OWN     4891.67     10391.0   \n",
       "\n",
       "       EmpLen  FICO  \n",
       "ID                   \n",
       "81174       0   737  \n",
       "99592       2   717  \n",
       "80059       2   692  \n",
       "33182       9   697  \n",
       "62403       3   672  "
      ]
     },
     "execution_count": 70,
     "metadata": {},
     "output_type": "execute_result"
    }
   ],
   "source": [
    "loan_data.head()"
   ]
  },
  {
   "cell_type": "markdown",
   "metadata": {},
   "source": [
    "### Step C: Transform the Home Categorical Variable to Dummies "
   ]
  },
  {
   "cell_type": "code",
   "execution_count": 71,
   "metadata": {},
   "outputs": [],
   "source": [
    "home_dum = pd.get_dummies(loan_data['Home'], prefix='Home_')"
   ]
  },
  {
   "cell_type": "code",
   "execution_count": 72,
   "metadata": {},
   "outputs": [],
   "source": [
    "loan_X1 = loan_data[['LoanAmt','LoanTerm', 'Debt2Inc']].join(home_dum)\n",
    "loan_X2 = loan_data[['MonthlyInc','RevCredBal','FICO','EmpLen']]\n",
    "loan_Y = loan_data[['IntRate']]"
   ]
  },
  {
   "cell_type": "code",
   "execution_count": 73,
   "metadata": {},
   "outputs": [
    {
     "data": {
      "text/html": [
       "<div>\n",
       "<style scoped>\n",
       "    .dataframe tbody tr th:only-of-type {\n",
       "        vertical-align: middle;\n",
       "    }\n",
       "\n",
       "    .dataframe tbody tr th {\n",
       "        vertical-align: top;\n",
       "    }\n",
       "\n",
       "    .dataframe thead th {\n",
       "        text-align: right;\n",
       "    }\n",
       "</style>\n",
       "<table border=\"1\" class=\"dataframe\">\n",
       "  <thead>\n",
       "    <tr style=\"text-align: right;\">\n",
       "      <th></th>\n",
       "      <th>IntRate</th>\n",
       "      <th>LoanAmt</th>\n",
       "      <th>LoanTerm</th>\n",
       "      <th>Debt2Inc</th>\n",
       "      <th>Home__MORT</th>\n",
       "      <th>Home__OWN</th>\n",
       "      <th>Home__RENT</th>\n",
       "      <th>MonthlyInc</th>\n",
       "      <th>RevCredBal</th>\n",
       "      <th>FICO</th>\n",
       "      <th>EmpLen</th>\n",
       "    </tr>\n",
       "    <tr>\n",
       "      <th>ID</th>\n",
       "      <th></th>\n",
       "      <th></th>\n",
       "      <th></th>\n",
       "      <th></th>\n",
       "      <th></th>\n",
       "      <th></th>\n",
       "      <th></th>\n",
       "      <th></th>\n",
       "      <th></th>\n",
       "      <th></th>\n",
       "      <th></th>\n",
       "    </tr>\n",
       "  </thead>\n",
       "  <tbody>\n",
       "    <tr>\n",
       "      <th>81174</th>\n",
       "      <td>8.90</td>\n",
       "      <td>20000</td>\n",
       "      <td>0</td>\n",
       "      <td>14.90</td>\n",
       "      <td>1</td>\n",
       "      <td>0</td>\n",
       "      <td>0</td>\n",
       "      <td>6541.67</td>\n",
       "      <td>14272.0</td>\n",
       "      <td>737</td>\n",
       "      <td>0</td>\n",
       "    </tr>\n",
       "    <tr>\n",
       "      <th>99592</th>\n",
       "      <td>12.12</td>\n",
       "      <td>19200</td>\n",
       "      <td>0</td>\n",
       "      <td>28.36</td>\n",
       "      <td>1</td>\n",
       "      <td>0</td>\n",
       "      <td>0</td>\n",
       "      <td>4583.33</td>\n",
       "      <td>11140.0</td>\n",
       "      <td>717</td>\n",
       "      <td>2</td>\n",
       "    </tr>\n",
       "    <tr>\n",
       "      <th>80059</th>\n",
       "      <td>21.98</td>\n",
       "      <td>35000</td>\n",
       "      <td>1</td>\n",
       "      <td>23.81</td>\n",
       "      <td>1</td>\n",
       "      <td>0</td>\n",
       "      <td>0</td>\n",
       "      <td>11500.00</td>\n",
       "      <td>21977.0</td>\n",
       "      <td>692</td>\n",
       "      <td>2</td>\n",
       "    </tr>\n",
       "    <tr>\n",
       "      <th>33182</th>\n",
       "      <td>11.71</td>\n",
       "      <td>12000</td>\n",
       "      <td>0</td>\n",
       "      <td>18.78</td>\n",
       "      <td>0</td>\n",
       "      <td>0</td>\n",
       "      <td>1</td>\n",
       "      <td>3195.00</td>\n",
       "      <td>14469.0</td>\n",
       "      <td>697</td>\n",
       "      <td>9</td>\n",
       "    </tr>\n",
       "    <tr>\n",
       "      <th>62403</th>\n",
       "      <td>15.31</td>\n",
       "      <td>6000</td>\n",
       "      <td>0</td>\n",
       "      <td>20.05</td>\n",
       "      <td>0</td>\n",
       "      <td>1</td>\n",
       "      <td>0</td>\n",
       "      <td>4891.67</td>\n",
       "      <td>10391.0</td>\n",
       "      <td>672</td>\n",
       "      <td>3</td>\n",
       "    </tr>\n",
       "  </tbody>\n",
       "</table>\n",
       "</div>"
      ],
      "text/plain": [
       "       IntRate  LoanAmt  LoanTerm  Debt2Inc  Home__MORT  Home__OWN  \\\n",
       "ID                                                                   \n",
       "81174     8.90    20000         0     14.90           1          0   \n",
       "99592    12.12    19200         0     28.36           1          0   \n",
       "80059    21.98    35000         1     23.81           1          0   \n",
       "33182    11.71    12000         0     18.78           0          0   \n",
       "62403    15.31     6000         0     20.05           0          1   \n",
       "\n",
       "       Home__RENT  MonthlyInc  RevCredBal  FICO  EmpLen  \n",
       "ID                                                       \n",
       "81174           0     6541.67     14272.0   737       0  \n",
       "99592           0     4583.33     11140.0   717       2  \n",
       "80059           0    11500.00     21977.0   692       2  \n",
       "33182           1     3195.00     14469.0   697       9  \n",
       "62403           0     4891.67     10391.0   672       3  "
      ]
     },
     "execution_count": 73,
     "metadata": {},
     "output_type": "execute_result"
    }
   ],
   "source": [
    "loan_data = pd.concat([loan_Y, loan_X1, loan_X2], axis=1)\n",
    "loan_data.head()"
   ]
  },
  {
   "cell_type": "markdown",
   "metadata": {},
   "source": [
    "### Step D: Examine the Relationship Between the Variables"
   ]
  },
  {
   "cell_type": "code",
   "execution_count": 74,
   "metadata": {},
   "outputs": [
    {
     "data": {
      "text/html": [
       "<div>\n",
       "<style scoped>\n",
       "    .dataframe tbody tr th:only-of-type {\n",
       "        vertical-align: middle;\n",
       "    }\n",
       "\n",
       "    .dataframe tbody tr th {\n",
       "        vertical-align: top;\n",
       "    }\n",
       "\n",
       "    .dataframe thead th {\n",
       "        text-align: right;\n",
       "    }\n",
       "</style>\n",
       "<table border=\"1\" class=\"dataframe\">\n",
       "  <thead>\n",
       "    <tr style=\"text-align: right;\">\n",
       "      <th></th>\n",
       "      <th>IntRate</th>\n",
       "      <th>LoanAmt</th>\n",
       "      <th>LoanTerm</th>\n",
       "      <th>Debt2Inc</th>\n",
       "      <th>Home__MORT</th>\n",
       "      <th>Home__OWN</th>\n",
       "      <th>Home__RENT</th>\n",
       "      <th>MonthlyInc</th>\n",
       "      <th>RevCredBal</th>\n",
       "      <th>FICO</th>\n",
       "      <th>EmpLen</th>\n",
       "    </tr>\n",
       "  </thead>\n",
       "  <tbody>\n",
       "    <tr>\n",
       "      <th>IntRate</th>\n",
       "      <td>1.000000</td>\n",
       "      <td>0.308321</td>\n",
       "      <td>0.414420</td>\n",
       "      <td>0.157653</td>\n",
       "      <td>-0.086886</td>\n",
       "      <td>-0.007368</td>\n",
       "      <td>0.090279</td>\n",
       "      <td>0.018718</td>\n",
       "      <td>0.078770</td>\n",
       "      <td>-0.733519</td>\n",
       "      <td>0.039927</td>\n",
       "    </tr>\n",
       "    <tr>\n",
       "      <th>LoanAmt</th>\n",
       "      <td>0.308321</td>\n",
       "      <td>1.000000</td>\n",
       "      <td>0.370207</td>\n",
       "      <td>0.083909</td>\n",
       "      <td>0.151616</td>\n",
       "      <td>-0.049427</td>\n",
       "      <td>-0.122979</td>\n",
       "      <td>0.439503</td>\n",
       "      <td>0.364792</td>\n",
       "      <td>0.060730</td>\n",
       "      <td>0.157921</td>\n",
       "    </tr>\n",
       "    <tr>\n",
       "      <th>LoanTerm</th>\n",
       "      <td>0.414420</td>\n",
       "      <td>0.370207</td>\n",
       "      <td>1.000000</td>\n",
       "      <td>0.015259</td>\n",
       "      <td>0.047973</td>\n",
       "      <td>-0.021353</td>\n",
       "      <td>-0.035742</td>\n",
       "      <td>0.081958</td>\n",
       "      <td>0.093702</td>\n",
       "      <td>-0.011196</td>\n",
       "      <td>0.060672</td>\n",
       "    </tr>\n",
       "    <tr>\n",
       "      <th>Debt2Inc</th>\n",
       "      <td>0.157653</td>\n",
       "      <td>0.083909</td>\n",
       "      <td>0.015259</td>\n",
       "      <td>1.000000</td>\n",
       "      <td>-0.003505</td>\n",
       "      <td>0.023173</td>\n",
       "      <td>-0.009381</td>\n",
       "      <td>-0.178562</td>\n",
       "      <td>0.219052</td>\n",
       "      <td>-0.210367</td>\n",
       "      <td>0.019866</td>\n",
       "    </tr>\n",
       "    <tr>\n",
       "      <th>Home__MORT</th>\n",
       "      <td>-0.086886</td>\n",
       "      <td>0.151616</td>\n",
       "      <td>0.047973</td>\n",
       "      <td>-0.003505</td>\n",
       "      <td>1.000000</td>\n",
       "      <td>-0.265202</td>\n",
       "      <td>-0.844858</td>\n",
       "      <td>0.250199</td>\n",
       "      <td>0.208887</td>\n",
       "      <td>0.131209</td>\n",
       "      <td>0.243583</td>\n",
       "    </tr>\n",
       "    <tr>\n",
       "      <th>Home__OWN</th>\n",
       "      <td>-0.007368</td>\n",
       "      <td>-0.049427</td>\n",
       "      <td>-0.021353</td>\n",
       "      <td>0.023173</td>\n",
       "      <td>-0.265202</td>\n",
       "      <td>1.000000</td>\n",
       "      <td>-0.291776</td>\n",
       "      <td>-0.092213</td>\n",
       "      <td>-0.052714</td>\n",
       "      <td>0.003564</td>\n",
       "      <td>-0.024375</td>\n",
       "    </tr>\n",
       "    <tr>\n",
       "      <th>Home__RENT</th>\n",
       "      <td>0.090279</td>\n",
       "      <td>-0.122979</td>\n",
       "      <td>-0.035742</td>\n",
       "      <td>-0.009381</td>\n",
       "      <td>-0.844858</td>\n",
       "      <td>-0.291776</td>\n",
       "      <td>1.000000</td>\n",
       "      <td>-0.197034</td>\n",
       "      <td>-0.177969</td>\n",
       "      <td>-0.132138</td>\n",
       "      <td>-0.228111</td>\n",
       "    </tr>\n",
       "    <tr>\n",
       "      <th>MonthlyInc</th>\n",
       "      <td>0.018718</td>\n",
       "      <td>0.439503</td>\n",
       "      <td>0.081958</td>\n",
       "      <td>-0.178562</td>\n",
       "      <td>0.250199</td>\n",
       "      <td>-0.092213</td>\n",
       "      <td>-0.197034</td>\n",
       "      <td>1.000000</td>\n",
       "      <td>0.432443</td>\n",
       "      <td>0.114587</td>\n",
       "      <td>0.096702</td>\n",
       "    </tr>\n",
       "    <tr>\n",
       "      <th>RevCredBal</th>\n",
       "      <td>0.078770</td>\n",
       "      <td>0.364792</td>\n",
       "      <td>0.093702</td>\n",
       "      <td>0.219052</td>\n",
       "      <td>0.208887</td>\n",
       "      <td>-0.052714</td>\n",
       "      <td>-0.177969</td>\n",
       "      <td>0.432443</td>\n",
       "      <td>1.000000</td>\n",
       "      <td>0.003040</td>\n",
       "      <td>0.139835</td>\n",
       "    </tr>\n",
       "    <tr>\n",
       "      <th>FICO</th>\n",
       "      <td>-0.733519</td>\n",
       "      <td>0.060730</td>\n",
       "      <td>-0.011196</td>\n",
       "      <td>-0.210367</td>\n",
       "      <td>0.131209</td>\n",
       "      <td>0.003564</td>\n",
       "      <td>-0.132138</td>\n",
       "      <td>0.114587</td>\n",
       "      <td>0.003040</td>\n",
       "      <td>1.000000</td>\n",
       "      <td>0.020892</td>\n",
       "    </tr>\n",
       "    <tr>\n",
       "      <th>EmpLen</th>\n",
       "      <td>0.039927</td>\n",
       "      <td>0.157921</td>\n",
       "      <td>0.060672</td>\n",
       "      <td>0.019866</td>\n",
       "      <td>0.243583</td>\n",
       "      <td>-0.024375</td>\n",
       "      <td>-0.228111</td>\n",
       "      <td>0.096702</td>\n",
       "      <td>0.139835</td>\n",
       "      <td>0.020892</td>\n",
       "      <td>1.000000</td>\n",
       "    </tr>\n",
       "  </tbody>\n",
       "</table>\n",
       "</div>"
      ],
      "text/plain": [
       "             IntRate   LoanAmt  LoanTerm  Debt2Inc  Home__MORT  Home__OWN  \\\n",
       "IntRate     1.000000  0.308321  0.414420  0.157653   -0.086886  -0.007368   \n",
       "LoanAmt     0.308321  1.000000  0.370207  0.083909    0.151616  -0.049427   \n",
       "LoanTerm    0.414420  0.370207  1.000000  0.015259    0.047973  -0.021353   \n",
       "Debt2Inc    0.157653  0.083909  0.015259  1.000000   -0.003505   0.023173   \n",
       "Home__MORT -0.086886  0.151616  0.047973 -0.003505    1.000000  -0.265202   \n",
       "Home__OWN  -0.007368 -0.049427 -0.021353  0.023173   -0.265202   1.000000   \n",
       "Home__RENT  0.090279 -0.122979 -0.035742 -0.009381   -0.844858  -0.291776   \n",
       "MonthlyInc  0.018718  0.439503  0.081958 -0.178562    0.250199  -0.092213   \n",
       "RevCredBal  0.078770  0.364792  0.093702  0.219052    0.208887  -0.052714   \n",
       "FICO       -0.733519  0.060730 -0.011196 -0.210367    0.131209   0.003564   \n",
       "EmpLen      0.039927  0.157921  0.060672  0.019866    0.243583  -0.024375   \n",
       "\n",
       "            Home__RENT  MonthlyInc  RevCredBal      FICO    EmpLen  \n",
       "IntRate       0.090279    0.018718    0.078770 -0.733519  0.039927  \n",
       "LoanAmt      -0.122979    0.439503    0.364792  0.060730  0.157921  \n",
       "LoanTerm     -0.035742    0.081958    0.093702 -0.011196  0.060672  \n",
       "Debt2Inc     -0.009381   -0.178562    0.219052 -0.210367  0.019866  \n",
       "Home__MORT   -0.844858    0.250199    0.208887  0.131209  0.243583  \n",
       "Home__OWN    -0.291776   -0.092213   -0.052714  0.003564 -0.024375  \n",
       "Home__RENT    1.000000   -0.197034   -0.177969 -0.132138 -0.228111  \n",
       "MonthlyInc   -0.197034    1.000000    0.432443  0.114587  0.096702  \n",
       "RevCredBal   -0.177969    0.432443    1.000000  0.003040  0.139835  \n",
       "FICO         -0.132138    0.114587    0.003040  1.000000  0.020892  \n",
       "EmpLen       -0.228111    0.096702    0.139835  0.020892  1.000000  "
      ]
     },
     "execution_count": 74,
     "metadata": {},
     "output_type": "execute_result"
    }
   ],
   "source": [
    "loan_corr = loan_data.corr()\n",
    "loan_corr"
   ]
  },
  {
   "cell_type": "code",
   "execution_count": 75,
   "metadata": {},
   "outputs": [
    {
     "data": {
      "text/html": [
       "<div>\n",
       "<style scoped>\n",
       "    .dataframe tbody tr th:only-of-type {\n",
       "        vertical-align: middle;\n",
       "    }\n",
       "\n",
       "    .dataframe tbody tr th {\n",
       "        vertical-align: top;\n",
       "    }\n",
       "\n",
       "    .dataframe thead th {\n",
       "        text-align: right;\n",
       "    }\n",
       "</style>\n",
       "<table border=\"1\" class=\"dataframe\">\n",
       "  <thead>\n",
       "    <tr style=\"text-align: right;\">\n",
       "      <th></th>\n",
       "      <th>IntRate</th>\n",
       "      <th>LoanAmt</th>\n",
       "      <th>LoanTerm</th>\n",
       "      <th>Debt2Inc</th>\n",
       "      <th>Home__MORT</th>\n",
       "      <th>Home__OWN</th>\n",
       "      <th>Home__RENT</th>\n",
       "      <th>MonthlyInc</th>\n",
       "      <th>RevCredBal</th>\n",
       "      <th>FICO</th>\n",
       "      <th>EmpLen</th>\n",
       "    </tr>\n",
       "  </thead>\n",
       "  <tbody>\n",
       "    <tr>\n",
       "      <th>IntRate</th>\n",
       "      <td>PosStrong</td>\n",
       "      <td>PosMedium</td>\n",
       "      <td>PosMedium</td>\n",
       "      <td>Weak</td>\n",
       "      <td>Weak</td>\n",
       "      <td>Weak</td>\n",
       "      <td>Weak</td>\n",
       "      <td>Weak</td>\n",
       "      <td>Weak</td>\n",
       "      <td>NegStrong</td>\n",
       "      <td>Weak</td>\n",
       "    </tr>\n",
       "    <tr>\n",
       "      <th>LoanAmt</th>\n",
       "      <td>PosMedium</td>\n",
       "      <td>PosStrong</td>\n",
       "      <td>PosMedium</td>\n",
       "      <td>Weak</td>\n",
       "      <td>Weak</td>\n",
       "      <td>Weak</td>\n",
       "      <td>Weak</td>\n",
       "      <td>PosMedium</td>\n",
       "      <td>PosMedium</td>\n",
       "      <td>Weak</td>\n",
       "      <td>Weak</td>\n",
       "    </tr>\n",
       "    <tr>\n",
       "      <th>LoanTerm</th>\n",
       "      <td>PosMedium</td>\n",
       "      <td>PosMedium</td>\n",
       "      <td>PosStrong</td>\n",
       "      <td>Weak</td>\n",
       "      <td>Weak</td>\n",
       "      <td>Weak</td>\n",
       "      <td>Weak</td>\n",
       "      <td>Weak</td>\n",
       "      <td>Weak</td>\n",
       "      <td>Weak</td>\n",
       "      <td>Weak</td>\n",
       "    </tr>\n",
       "    <tr>\n",
       "      <th>Debt2Inc</th>\n",
       "      <td>Weak</td>\n",
       "      <td>Weak</td>\n",
       "      <td>Weak</td>\n",
       "      <td>PosStrong</td>\n",
       "      <td>Weak</td>\n",
       "      <td>Weak</td>\n",
       "      <td>Weak</td>\n",
       "      <td>Weak</td>\n",
       "      <td>Weak</td>\n",
       "      <td>Weak</td>\n",
       "      <td>Weak</td>\n",
       "    </tr>\n",
       "    <tr>\n",
       "      <th>Home__MORT</th>\n",
       "      <td>Weak</td>\n",
       "      <td>Weak</td>\n",
       "      <td>Weak</td>\n",
       "      <td>Weak</td>\n",
       "      <td>PosStrong</td>\n",
       "      <td>Weak</td>\n",
       "      <td>NegStrong</td>\n",
       "      <td>Weak</td>\n",
       "      <td>Weak</td>\n",
       "      <td>Weak</td>\n",
       "      <td>Weak</td>\n",
       "    </tr>\n",
       "    <tr>\n",
       "      <th>Home__OWN</th>\n",
       "      <td>Weak</td>\n",
       "      <td>Weak</td>\n",
       "      <td>Weak</td>\n",
       "      <td>Weak</td>\n",
       "      <td>Weak</td>\n",
       "      <td>PosStrong</td>\n",
       "      <td>Weak</td>\n",
       "      <td>Weak</td>\n",
       "      <td>Weak</td>\n",
       "      <td>Weak</td>\n",
       "      <td>Weak</td>\n",
       "    </tr>\n",
       "    <tr>\n",
       "      <th>Home__RENT</th>\n",
       "      <td>Weak</td>\n",
       "      <td>Weak</td>\n",
       "      <td>Weak</td>\n",
       "      <td>Weak</td>\n",
       "      <td>NegStrong</td>\n",
       "      <td>Weak</td>\n",
       "      <td>PosStrong</td>\n",
       "      <td>Weak</td>\n",
       "      <td>Weak</td>\n",
       "      <td>Weak</td>\n",
       "      <td>Weak</td>\n",
       "    </tr>\n",
       "    <tr>\n",
       "      <th>MonthlyInc</th>\n",
       "      <td>Weak</td>\n",
       "      <td>PosMedium</td>\n",
       "      <td>Weak</td>\n",
       "      <td>Weak</td>\n",
       "      <td>Weak</td>\n",
       "      <td>Weak</td>\n",
       "      <td>Weak</td>\n",
       "      <td>PosStrong</td>\n",
       "      <td>PosMedium</td>\n",
       "      <td>Weak</td>\n",
       "      <td>Weak</td>\n",
       "    </tr>\n",
       "    <tr>\n",
       "      <th>RevCredBal</th>\n",
       "      <td>Weak</td>\n",
       "      <td>PosMedium</td>\n",
       "      <td>Weak</td>\n",
       "      <td>Weak</td>\n",
       "      <td>Weak</td>\n",
       "      <td>Weak</td>\n",
       "      <td>Weak</td>\n",
       "      <td>PosMedium</td>\n",
       "      <td>PosStrong</td>\n",
       "      <td>Weak</td>\n",
       "      <td>Weak</td>\n",
       "    </tr>\n",
       "    <tr>\n",
       "      <th>FICO</th>\n",
       "      <td>NegStrong</td>\n",
       "      <td>Weak</td>\n",
       "      <td>Weak</td>\n",
       "      <td>Weak</td>\n",
       "      <td>Weak</td>\n",
       "      <td>Weak</td>\n",
       "      <td>Weak</td>\n",
       "      <td>Weak</td>\n",
       "      <td>Weak</td>\n",
       "      <td>PosStrong</td>\n",
       "      <td>Weak</td>\n",
       "    </tr>\n",
       "    <tr>\n",
       "      <th>EmpLen</th>\n",
       "      <td>Weak</td>\n",
       "      <td>Weak</td>\n",
       "      <td>Weak</td>\n",
       "      <td>Weak</td>\n",
       "      <td>Weak</td>\n",
       "      <td>Weak</td>\n",
       "      <td>Weak</td>\n",
       "      <td>Weak</td>\n",
       "      <td>Weak</td>\n",
       "      <td>Weak</td>\n",
       "      <td>PosStrong</td>\n",
       "    </tr>\n",
       "  </tbody>\n",
       "</table>\n",
       "</div>"
      ],
      "text/plain": [
       "              IntRate    LoanAmt   LoanTerm   Debt2Inc Home__MORT  Home__OWN  \\\n",
       "IntRate     PosStrong  PosMedium  PosMedium       Weak       Weak       Weak   \n",
       "LoanAmt     PosMedium  PosStrong  PosMedium       Weak       Weak       Weak   \n",
       "LoanTerm    PosMedium  PosMedium  PosStrong       Weak       Weak       Weak   \n",
       "Debt2Inc         Weak       Weak       Weak  PosStrong       Weak       Weak   \n",
       "Home__MORT       Weak       Weak       Weak       Weak  PosStrong       Weak   \n",
       "Home__OWN        Weak       Weak       Weak       Weak       Weak  PosStrong   \n",
       "Home__RENT       Weak       Weak       Weak       Weak  NegStrong       Weak   \n",
       "MonthlyInc       Weak  PosMedium       Weak       Weak       Weak       Weak   \n",
       "RevCredBal       Weak  PosMedium       Weak       Weak       Weak       Weak   \n",
       "FICO        NegStrong       Weak       Weak       Weak       Weak       Weak   \n",
       "EmpLen           Weak       Weak       Weak       Weak       Weak       Weak   \n",
       "\n",
       "           Home__RENT MonthlyInc RevCredBal       FICO     EmpLen  \n",
       "IntRate          Weak       Weak       Weak  NegStrong       Weak  \n",
       "LoanAmt          Weak  PosMedium  PosMedium       Weak       Weak  \n",
       "LoanTerm         Weak       Weak       Weak       Weak       Weak  \n",
       "Debt2Inc         Weak       Weak       Weak       Weak       Weak  \n",
       "Home__MORT  NegStrong       Weak       Weak       Weak       Weak  \n",
       "Home__OWN        Weak       Weak       Weak       Weak       Weak  \n",
       "Home__RENT  PosStrong       Weak       Weak       Weak       Weak  \n",
       "MonthlyInc       Weak  PosStrong  PosMedium       Weak       Weak  \n",
       "RevCredBal       Weak  PosMedium  PosStrong       Weak       Weak  \n",
       "FICO             Weak       Weak       Weak  PosStrong       Weak  \n",
       "EmpLen           Weak       Weak       Weak       Weak  PosStrong  "
      ]
     },
     "execution_count": 75,
     "metadata": {},
     "output_type": "execute_result"
    }
   ],
   "source": [
    "grps = ['NegStrong','NegMedium','Weak','PosMedium','PosStrong']\n",
    "cols = ['IntRate', 'LoanAmt', 'LoanTerm', 'Debt2Inc', 'Home__MORT',\n",
    "        'Home__OWN','Home__RENT','MonthlyInc', 'RevCredBal', 'FICO', 'EmpLen']\n",
    "for col in cols:\n",
    "    loan_corr[col] = pd.cut (loan_corr[col], \n",
    "        (-1,-0.7,-0.3,0.3,0.7,1), labels = grps)\n",
    "loan_corr"
   ]
  },
  {
   "cell_type": "code",
   "execution_count": 76,
   "metadata": {},
   "outputs": [
    {
     "data": {
      "text/html": [
       "<div>\n",
       "<style scoped>\n",
       "    .dataframe tbody tr th:only-of-type {\n",
       "        vertical-align: middle;\n",
       "    }\n",
       "\n",
       "    .dataframe tbody tr th {\n",
       "        vertical-align: top;\n",
       "    }\n",
       "\n",
       "    .dataframe thead th {\n",
       "        text-align: right;\n",
       "    }\n",
       "</style>\n",
       "<table border=\"1\" class=\"dataframe\">\n",
       "  <thead>\n",
       "    <tr style=\"text-align: right;\">\n",
       "      <th></th>\n",
       "      <th>IntRate</th>\n",
       "      <th>LoanAmt</th>\n",
       "      <th>LoanTerm</th>\n",
       "      <th>MonthlyInc</th>\n",
       "      <th>RevCredBal</th>\n",
       "      <th>FICO</th>\n",
       "    </tr>\n",
       "    <tr>\n",
       "      <th>ID</th>\n",
       "      <th></th>\n",
       "      <th></th>\n",
       "      <th></th>\n",
       "      <th></th>\n",
       "      <th></th>\n",
       "      <th></th>\n",
       "    </tr>\n",
       "  </thead>\n",
       "  <tbody>\n",
       "    <tr>\n",
       "      <th>81174</th>\n",
       "      <td>8.90</td>\n",
       "      <td>20000</td>\n",
       "      <td>0</td>\n",
       "      <td>6541.67</td>\n",
       "      <td>14272.0</td>\n",
       "      <td>737</td>\n",
       "    </tr>\n",
       "    <tr>\n",
       "      <th>99592</th>\n",
       "      <td>12.12</td>\n",
       "      <td>19200</td>\n",
       "      <td>0</td>\n",
       "      <td>4583.33</td>\n",
       "      <td>11140.0</td>\n",
       "      <td>717</td>\n",
       "    </tr>\n",
       "    <tr>\n",
       "      <th>80059</th>\n",
       "      <td>21.98</td>\n",
       "      <td>35000</td>\n",
       "      <td>1</td>\n",
       "      <td>11500.00</td>\n",
       "      <td>21977.0</td>\n",
       "      <td>692</td>\n",
       "    </tr>\n",
       "    <tr>\n",
       "      <th>33182</th>\n",
       "      <td>11.71</td>\n",
       "      <td>12000</td>\n",
       "      <td>0</td>\n",
       "      <td>3195.00</td>\n",
       "      <td>14469.0</td>\n",
       "      <td>697</td>\n",
       "    </tr>\n",
       "    <tr>\n",
       "      <th>62403</th>\n",
       "      <td>15.31</td>\n",
       "      <td>6000</td>\n",
       "      <td>0</td>\n",
       "      <td>4891.67</td>\n",
       "      <td>10391.0</td>\n",
       "      <td>672</td>\n",
       "    </tr>\n",
       "  </tbody>\n",
       "</table>\n",
       "</div>"
      ],
      "text/plain": [
       "       IntRate  LoanAmt  LoanTerm  MonthlyInc  RevCredBal  FICO\n",
       "ID                                                             \n",
       "81174     8.90    20000         0     6541.67     14272.0   737\n",
       "99592    12.12    19200         0     4583.33     11140.0   717\n",
       "80059    21.98    35000         1    11500.00     21977.0   692\n",
       "33182    11.71    12000         0     3195.00     14469.0   697\n",
       "62403    15.31     6000         0     4891.67     10391.0   672"
      ]
     },
     "execution_count": 76,
     "metadata": {},
     "output_type": "execute_result"
    }
   ],
   "source": [
    "loan_data = loan_data.drop(['Debt2Inc','Home__MORT','Home__OWN','Home__RENT','EmpLen'], axis=1)\n",
    "loan_data.head()"
   ]
  },
  {
   "cell_type": "code",
   "execution_count": 95,
   "metadata": {},
   "outputs": [
    {
     "data": {
      "image/png": "[encoded data removed]",
      "text/plain": [
       "<Figure size 1135.03x1080 with 42 Axes>"
      ]
     },
     "metadata": {},
     "output_type": "display_data"
    }
   ],
   "source": [
    "sns.pairplot (loan_data, hue = 'LoanTerm', height=2.5);"
   ]
  },
  {
   "cell_type": "markdown",
   "metadata": {},
   "source": [
    "### Step E: Transforming the Variables Using Standardization"
   ]
  },
  {
   "cell_type": "code",
   "execution_count": 78,
   "metadata": {},
   "outputs": [],
   "source": [
    "Y = loan_data ['IntRate']\n",
    "X = loan_data.drop (['IntRate'], axis=1)\n",
    "sc = StandardScaler()\n",
    "sc.fit(X)\n",
    "X_std = sc.transform(X)"
   ]
  },
  {
   "cell_type": "markdown",
   "metadata": {},
   "source": [
    "### Step F: Model Formation and Selection"
   ]
  },
  {
   "cell_type": "markdown",
   "metadata": {},
   "source": [
    "#Full model: \n",
    "X_std0 : loan_data[['LoanAmt', 'LoanTerm', 'MonthlyInc', 'RevCredBal', 'FICO']].values\n",
    "\n",
    "#Full model-MonthlyInc:\n",
    "X_std1 : loan_data[['LoanAmt', 'LoanTerm', 'RevCredBal', 'FICO']].values\n",
    "\n",
    "#Full model-RevCredBal:\n",
    "X_std2 : loan_data[['LoanAmt', 'LoanTerm', 'MonthlyInc', 'FICO']].values\n",
    "\n",
    "#Full model with PCA, 4 comps:\n",
    "X_std_p4 : loan_data.PCA (princomps=4)\n",
    "\n",
    "Y : loan_data[['IntRate']]\n",
    "X_std : loan_data[['LoanAmt', 'LoanTerm', 'MonthlyInc', 'RevCredBal', 'FICO']]"
   ]
  },
  {
   "cell_type": "markdown",
   "metadata": {},
   "source": [
    "### Full Model with Statsmodels"
   ]
  },
  {
   "cell_type": "code",
   "execution_count": 79,
   "metadata": {},
   "outputs": [
    {
     "data": {
      "text/html": [
       "<table class=\"simpletable\">\n",
       "<caption>OLS Regression Results</caption>\n",
       "<tr>\n",
       "  <th>Dep. Variable:</th>         <td>IntRate</td>     <th>  R-squared:         </th> <td>   0.752</td>\n",
       "</tr>\n",
       "<tr>\n",
       "  <th>Model:</th>                   <td>OLS</td>       <th>  Adj. R-squared:    </th> <td>   0.752</td>\n",
       "</tr>\n",
       "<tr>\n",
       "  <th>Method:</th>             <td>Least Squares</td>  <th>  F-statistic:       </th> <td>   1061.</td>\n",
       "</tr>\n",
       "<tr>\n",
       "  <th>Date:</th>             <td>Sun, 20 Oct 2019</td> <th>  Prob (F-statistic):</th>  <td>  0.00</td> \n",
       "</tr>\n",
       "<tr>\n",
       "  <th>Time:</th>                 <td>15:46:57</td>     <th>  Log-Likelihood:    </th> <td> -3777.3</td>\n",
       "</tr>\n",
       "<tr>\n",
       "  <th>No. Observations:</th>      <td>  1752</td>      <th>  AIC:               </th> <td>   7567.</td>\n",
       "</tr>\n",
       "<tr>\n",
       "  <th>Df Residuals:</th>          <td>  1746</td>      <th>  BIC:               </th> <td>   7599.</td>\n",
       "</tr>\n",
       "<tr>\n",
       "  <th>Df Model:</th>              <td>     5</td>      <th>                     </th>     <td> </td>   \n",
       "</tr>\n",
       "<tr>\n",
       "  <th>Covariance Type:</th>      <td>nonrobust</td>    <th>                     </th>     <td> </td>   \n",
       "</tr>\n",
       "</table>\n",
       "<table class=\"simpletable\">\n",
       "<tr>\n",
       "    <td></td>       <th>coef</th>     <th>std err</th>      <th>t</th>      <th>P>|t|</th>  <th>[0.025</th>    <th>0.975]</th>  \n",
       "</tr>\n",
       "<tr>\n",
       "  <th>const</th> <td>   13.1208</td> <td>    0.050</td> <td>  262.351</td> <td> 0.000</td> <td>   13.023</td> <td>   13.219</td>\n",
       "</tr>\n",
       "<tr>\n",
       "  <th>x1</th>    <td>    1.0841</td> <td>    0.061</td> <td>   17.664</td> <td> 0.000</td> <td>    0.964</td> <td>    1.204</td>\n",
       "</tr>\n",
       "<tr>\n",
       "  <th>x2</th>    <td>    1.3246</td> <td>    0.054</td> <td>   24.474</td> <td> 0.000</td> <td>    1.218</td> <td>    1.431</td>\n",
       "</tr>\n",
       "<tr>\n",
       "  <th>x3</th>    <td>   -0.0876</td> <td>    0.059</td> <td>   -1.474</td> <td> 0.141</td> <td>   -0.204</td> <td>    0.029</td>\n",
       "</tr>\n",
       "<tr>\n",
       "  <th>x4</th>    <td>   -0.1414</td> <td>    0.057</td> <td>   -2.485</td> <td> 0.013</td> <td>   -0.253</td> <td>   -0.030</td>\n",
       "</tr>\n",
       "<tr>\n",
       "  <th>x5</th>    <td>   -3.1211</td> <td>    0.050</td> <td>  -61.870</td> <td> 0.000</td> <td>   -3.220</td> <td>   -3.022</td>\n",
       "</tr>\n",
       "</table>\n",
       "<table class=\"simpletable\">\n",
       "<tr>\n",
       "  <th>Omnibus:</th>       <td>109.642</td> <th>  Durbin-Watson:     </th> <td>   1.927</td>\n",
       "</tr>\n",
       "<tr>\n",
       "  <th>Prob(Omnibus):</th> <td> 0.000</td>  <th>  Jarque-Bera (JB):  </th> <td> 183.557</td>\n",
       "</tr>\n",
       "<tr>\n",
       "  <th>Skew:</th>          <td> 0.479</td>  <th>  Prob(JB):          </th> <td>1.38e-40</td>\n",
       "</tr>\n",
       "<tr>\n",
       "  <th>Kurtosis:</th>      <td> 4.264</td>  <th>  Cond. No.          </th> <td>    2.05</td>\n",
       "</tr>\n",
       "</table><br/><br/>Warnings:<br/>[1] Standard Errors assume that the covariance matrix of the errors is correctly specified."
      ],
      "text/plain": [
       "<class 'statsmodels.iolib.summary.Summary'>\n",
       "\"\"\"\n",
       "                            OLS Regression Results                            \n",
       "==============================================================================\n",
       "Dep. Variable:                IntRate   R-squared:                       0.752\n",
       "Model:                            OLS   Adj. R-squared:                  0.752\n",
       "Method:                 Least Squares   F-statistic:                     1061.\n",
       "Date:                Sun, 20 Oct 2019   Prob (F-statistic):               0.00\n",
       "Time:                        15:46:57   Log-Likelihood:                -3777.3\n",
       "No. Observations:                1752   AIC:                             7567.\n",
       "Df Residuals:                    1746   BIC:                             7599.\n",
       "Df Model:                           5                                         \n",
       "Covariance Type:            nonrobust                                         \n",
       "==============================================================================\n",
       "                 coef    std err          t      P>|t|      [0.025      0.975]\n",
       "------------------------------------------------------------------------------\n",
       "const         13.1208      0.050    262.351      0.000      13.023      13.219\n",
       "x1             1.0841      0.061     17.664      0.000       0.964       1.204\n",
       "x2             1.3246      0.054     24.474      0.000       1.218       1.431\n",
       "x3            -0.0876      0.059     -1.474      0.141      -0.204       0.029\n",
       "x4            -0.1414      0.057     -2.485      0.013      -0.253      -0.030\n",
       "x5            -3.1211      0.050    -61.870      0.000      -3.220      -3.022\n",
       "==============================================================================\n",
       "Omnibus:                      109.642   Durbin-Watson:                   1.927\n",
       "Prob(Omnibus):                  0.000   Jarque-Bera (JB):              183.557\n",
       "Skew:                           0.479   Prob(JB):                     1.38e-40\n",
       "Kurtosis:                       4.264   Cond. No.                         2.05\n",
       "==============================================================================\n",
       "\n",
       "Warnings:\n",
       "[1] Standard Errors assume that the covariance matrix of the errors is correctly specified.\n",
       "\"\"\""
      ]
     },
     "execution_count": 79,
     "metadata": {},
     "output_type": "execute_result"
    }
   ],
   "source": [
    "X_std0 = sm.add_constant(X_std)\n",
    "loan_model0 = sm.OLS(Y, X_std0)\n",
    "loan_model0 = loan_model0.fit()\n",
    "loan_model0.summary()"
   ]
  },
  {
   "cell_type": "markdown",
   "metadata": {},
   "source": [
    "### Full Model Minus Monthly Income with Statsmodels"
   ]
  },
  {
   "cell_type": "code",
   "execution_count": 80,
   "metadata": {},
   "outputs": [
    {
     "data": {
      "text/plain": [
       "array([[ 1.1276208 , -0.4745259 ,  0.02474645,  0.97751917],\n",
       "       [ 1.02010707, -0.4745259 , -0.20378752,  0.37469848],\n",
       "       [ 3.14350321,  2.10736655,  0.58696046, -0.37882739],\n",
       "       [ 0.05248351, -0.4745259 ,  0.03912104, -0.22812221],\n",
       "       [-0.75386945, -0.4745259 , -0.25844012, -0.98164808]])"
      ]
     },
     "execution_count": 80,
     "metadata": {},
     "output_type": "execute_result"
    }
   ],
   "source": [
    "X_std1 = np.delete(X_std, [2], axis=1)\n",
    "X_std1[:5]"
   ]
  },
  {
   "cell_type": "code",
   "execution_count": 81,
   "metadata": {},
   "outputs": [
    {
     "data": {
      "text/html": [
       "<table class=\"simpletable\">\n",
       "<caption>OLS Regression Results</caption>\n",
       "<tr>\n",
       "  <th>Dep. Variable:</th>         <td>IntRate</td>     <th>  R-squared:         </th> <td>   0.752</td>\n",
       "</tr>\n",
       "<tr>\n",
       "  <th>Model:</th>                   <td>OLS</td>       <th>  Adj. R-squared:    </th> <td>   0.752</td>\n",
       "</tr>\n",
       "<tr>\n",
       "  <th>Method:</th>             <td>Least Squares</td>  <th>  F-statistic:       </th> <td>   1325.</td>\n",
       "</tr>\n",
       "<tr>\n",
       "  <th>Date:</th>             <td>Sun, 20 Oct 2019</td> <th>  Prob (F-statistic):</th>  <td>  0.00</td> \n",
       "</tr>\n",
       "<tr>\n",
       "  <th>Time:</th>                 <td>15:46:57</td>     <th>  Log-Likelihood:    </th> <td> -3778.4</td>\n",
       "</tr>\n",
       "<tr>\n",
       "  <th>No. Observations:</th>      <td>  1752</td>      <th>  AIC:               </th> <td>   7567.</td>\n",
       "</tr>\n",
       "<tr>\n",
       "  <th>Df Residuals:</th>          <td>  1747</td>      <th>  BIC:               </th> <td>   7594.</td>\n",
       "</tr>\n",
       "<tr>\n",
       "  <th>Df Model:</th>              <td>     4</td>      <th>                     </th>     <td> </td>   \n",
       "</tr>\n",
       "<tr>\n",
       "  <th>Covariance Type:</th>      <td>nonrobust</td>    <th>                     </th>     <td> </td>   \n",
       "</tr>\n",
       "</table>\n",
       "<table class=\"simpletable\">\n",
       "<tr>\n",
       "    <td></td>       <th>coef</th>     <th>std err</th>      <th>t</th>      <th>P>|t|</th>  <th>[0.025</th>    <th>0.975]</th>  \n",
       "</tr>\n",
       "<tr>\n",
       "  <th>const</th> <td>   13.1208</td> <td>    0.050</td> <td>  262.263</td> <td> 0.000</td> <td>   13.023</td> <td>   13.219</td>\n",
       "</tr>\n",
       "<tr>\n",
       "  <th>x1</th>    <td>    1.0536</td> <td>    0.058</td> <td>   18.226</td> <td> 0.000</td> <td>    0.940</td> <td>    1.167</td>\n",
       "</tr>\n",
       "<tr>\n",
       "  <th>x2</th>    <td>    1.3311</td> <td>    0.054</td> <td>   24.671</td> <td> 0.000</td> <td>    1.225</td> <td>    1.437</td>\n",
       "</tr>\n",
       "<tr>\n",
       "  <th>x3</th>    <td>   -0.1688</td> <td>    0.054</td> <td>   -3.137</td> <td> 0.002</td> <td>   -0.274</td> <td>   -0.063</td>\n",
       "</tr>\n",
       "<tr>\n",
       "  <th>x4</th>    <td>   -3.1291</td> <td>    0.050</td> <td>  -62.373</td> <td> 0.000</td> <td>   -3.227</td> <td>   -3.031</td>\n",
       "</tr>\n",
       "</table>\n",
       "<table class=\"simpletable\">\n",
       "<tr>\n",
       "  <th>Omnibus:</th>       <td>110.149</td> <th>  Durbin-Watson:     </th> <td>   1.928</td>\n",
       "</tr>\n",
       "<tr>\n",
       "  <th>Prob(Omnibus):</th> <td> 0.000</td>  <th>  Jarque-Bera (JB):  </th> <td> 188.145</td>\n",
       "</tr>\n",
       "<tr>\n",
       "  <th>Skew:</th>          <td> 0.474</td>  <th>  Prob(JB):          </th> <td>1.40e-41</td>\n",
       "</tr>\n",
       "<tr>\n",
       "  <th>Kurtosis:</th>      <td> 4.295</td>  <th>  Cond. No.          </th> <td>    1.74</td>\n",
       "</tr>\n",
       "</table><br/><br/>Warnings:<br/>[1] Standard Errors assume that the covariance matrix of the errors is correctly specified."
      ],
      "text/plain": [
       "<class 'statsmodels.iolib.summary.Summary'>\n",
       "\"\"\"\n",
       "                            OLS Regression Results                            \n",
       "==============================================================================\n",
       "Dep. Variable:                IntRate   R-squared:                       0.752\n",
       "Model:                            OLS   Adj. R-squared:                  0.752\n",
       "Method:                 Least Squares   F-statistic:                     1325.\n",
       "Date:                Sun, 20 Oct 2019   Prob (F-statistic):               0.00\n",
       "Time:                        15:46:57   Log-Likelihood:                -3778.4\n",
       "No. Observations:                1752   AIC:                             7567.\n",
       "Df Residuals:                    1747   BIC:                             7594.\n",
       "Df Model:                           4                                         \n",
       "Covariance Type:            nonrobust                                         \n",
       "==============================================================================\n",
       "                 coef    std err          t      P>|t|      [0.025      0.975]\n",
       "------------------------------------------------------------------------------\n",
       "const         13.1208      0.050    262.263      0.000      13.023      13.219\n",
       "x1             1.0536      0.058     18.226      0.000       0.940       1.167\n",
       "x2             1.3311      0.054     24.671      0.000       1.225       1.437\n",
       "x3            -0.1688      0.054     -3.137      0.002      -0.274      -0.063\n",
       "x4            -3.1291      0.050    -62.373      0.000      -3.227      -3.031\n",
       "==============================================================================\n",
       "Omnibus:                      110.149   Durbin-Watson:                   1.928\n",
       "Prob(Omnibus):                  0.000   Jarque-Bera (JB):              188.145\n",
       "Skew:                           0.474   Prob(JB):                     1.40e-41\n",
       "Kurtosis:                       4.295   Cond. No.                         1.74\n",
       "==============================================================================\n",
       "\n",
       "Warnings:\n",
       "[1] Standard Errors assume that the covariance matrix of the errors is correctly specified.\n",
       "\"\"\""
      ]
     },
     "execution_count": 81,
     "metadata": {},
     "output_type": "execute_result"
    }
   ],
   "source": [
    "X_std1 = sm.add_constant(X_std1)\n",
    "loan_model1 = sm.OLS(Y, X_std1)\n",
    "loan_model1 = loan_model1.fit()\n",
    "loan_model1.summary()"
   ]
  },
  {
   "cell_type": "markdown",
   "metadata": {},
   "source": [
    "### Full Model Minus Revolving Credit Balance with Statsmodels"
   ]
  },
  {
   "cell_type": "code",
   "execution_count": 82,
   "metadata": {},
   "outputs": [
    {
     "data": {
      "text/plain": [
       "array([[ 1.1276208 , -0.4745259 ,  0.32047414,  0.97751917],\n",
       "       [ 1.02010707, -0.4745259 , -0.29431579,  0.37469848],\n",
       "       [ 3.14350321,  2.10736655,  1.87706358, -0.37882739],\n",
       "       [ 0.05248351, -0.4745259 , -0.73016008, -0.22812221],\n",
       "       [-0.75386945, -0.4745259 , -0.19751732, -0.98164808]])"
      ]
     },
     "execution_count": 82,
     "metadata": {},
     "output_type": "execute_result"
    }
   ],
   "source": [
    "X_std2 = np.delete(X_std, [3], axis=1)\n",
    "X_std2[:5]"
   ]
  },
  {
   "cell_type": "code",
   "execution_count": 83,
   "metadata": {},
   "outputs": [
    {
     "data": {
      "text/html": [
       "<table class=\"simpletable\">\n",
       "<caption>OLS Regression Results</caption>\n",
       "<tr>\n",
       "  <th>Dep. Variable:</th>         <td>IntRate</td>     <th>  R-squared:         </th> <td>   0.752</td>\n",
       "</tr>\n",
       "<tr>\n",
       "  <th>Model:</th>                   <td>OLS</td>       <th>  Adj. R-squared:    </th> <td>   0.751</td>\n",
       "</tr>\n",
       "<tr>\n",
       "  <th>Method:</th>             <td>Least Squares</td>  <th>  F-statistic:       </th> <td>   1321.</td>\n",
       "</tr>\n",
       "<tr>\n",
       "  <th>Date:</th>             <td>Sun, 20 Oct 2019</td> <th>  Prob (F-statistic):</th>  <td>  0.00</td> \n",
       "</tr>\n",
       "<tr>\n",
       "  <th>Time:</th>                 <td>15:46:57</td>     <th>  Log-Likelihood:    </th> <td> -3780.4</td>\n",
       "</tr>\n",
       "<tr>\n",
       "  <th>No. Observations:</th>      <td>  1752</td>      <th>  AIC:               </th> <td>   7571.</td>\n",
       "</tr>\n",
       "<tr>\n",
       "  <th>Df Residuals:</th>          <td>  1747</td>      <th>  BIC:               </th> <td>   7598.</td>\n",
       "</tr>\n",
       "<tr>\n",
       "  <th>Df Model:</th>              <td>     4</td>      <th>                     </th>     <td> </td>   \n",
       "</tr>\n",
       "<tr>\n",
       "  <th>Covariance Type:</th>      <td>nonrobust</td>    <th>                     </th>     <td> </td>   \n",
       "</tr>\n",
       "</table>\n",
       "<table class=\"simpletable\">\n",
       "<tr>\n",
       "    <td></td>       <th>coef</th>     <th>std err</th>      <th>t</th>      <th>P>|t|</th>  <th>[0.025</th>    <th>0.975]</th>  \n",
       "</tr>\n",
       "<tr>\n",
       "  <th>const</th> <td>   13.1208</td> <td>    0.050</td> <td>  261.963</td> <td> 0.000</td> <td>   13.023</td> <td>   13.219</td>\n",
       "</tr>\n",
       "<tr>\n",
       "  <th>x1</th>    <td>    1.0524</td> <td>    0.060</td> <td>   17.505</td> <td> 0.000</td> <td>    0.934</td> <td>    1.170</td>\n",
       "</tr>\n",
       "<tr>\n",
       "  <th>x2</th>    <td>    1.3271</td> <td>    0.054</td> <td>   24.489</td> <td> 0.000</td> <td>    1.221</td> <td>    1.433</td>\n",
       "</tr>\n",
       "<tr>\n",
       "  <th>x3</th>    <td>   -0.1358</td> <td>    0.056</td> <td>   -2.414</td> <td> 0.016</td> <td>   -0.246</td> <td>   -0.025</td>\n",
       "</tr>\n",
       "<tr>\n",
       "  <th>x4</th>    <td>   -3.1140</td> <td>    0.050</td> <td>  -61.736</td> <td> 0.000</td> <td>   -3.213</td> <td>   -3.015</td>\n",
       "</tr>\n",
       "</table>\n",
       "<table class=\"simpletable\">\n",
       "<tr>\n",
       "  <th>Omnibus:</th>       <td>105.111</td> <th>  Durbin-Watson:     </th> <td>   1.926</td>\n",
       "</tr>\n",
       "<tr>\n",
       "  <th>Prob(Omnibus):</th> <td> 0.000</td>  <th>  Jarque-Bera (JB):  </th> <td> 173.175</td>\n",
       "</tr>\n",
       "<tr>\n",
       "  <th>Skew:</th>          <td> 0.468</td>  <th>  Prob(JB):          </th> <td>2.49e-38</td>\n",
       "</tr>\n",
       "<tr>\n",
       "  <th>Kurtosis:</th>      <td> 4.223</td>  <th>  Cond. No.          </th> <td>    1.88</td>\n",
       "</tr>\n",
       "</table><br/><br/>Warnings:<br/>[1] Standard Errors assume that the covariance matrix of the errors is correctly specified."
      ],
      "text/plain": [
       "<class 'statsmodels.iolib.summary.Summary'>\n",
       "\"\"\"\n",
       "                            OLS Regression Results                            \n",
       "==============================================================================\n",
       "Dep. Variable:                IntRate   R-squared:                       0.752\n",
       "Model:                            OLS   Adj. R-squared:                  0.751\n",
       "Method:                 Least Squares   F-statistic:                     1321.\n",
       "Date:                Sun, 20 Oct 2019   Prob (F-statistic):               0.00\n",
       "Time:                        15:46:57   Log-Likelihood:                -3780.4\n",
       "No. Observations:                1752   AIC:                             7571.\n",
       "Df Residuals:                    1747   BIC:                             7598.\n",
       "Df Model:                           4                                         \n",
       "Covariance Type:            nonrobust                                         \n",
       "==============================================================================\n",
       "                 coef    std err          t      P>|t|      [0.025      0.975]\n",
       "------------------------------------------------------------------------------\n",
       "const         13.1208      0.050    261.963      0.000      13.023      13.219\n",
       "x1             1.0524      0.060     17.505      0.000       0.934       1.170\n",
       "x2             1.3271      0.054     24.489      0.000       1.221       1.433\n",
       "x3            -0.1358      0.056     -2.414      0.016      -0.246      -0.025\n",
       "x4            -3.1140      0.050    -61.736      0.000      -3.213      -3.015\n",
       "==============================================================================\n",
       "Omnibus:                      105.111   Durbin-Watson:                   1.926\n",
       "Prob(Omnibus):                  0.000   Jarque-Bera (JB):              173.175\n",
       "Skew:                           0.468   Prob(JB):                     2.49e-38\n",
       "Kurtosis:                       4.223   Cond. No.                         1.88\n",
       "==============================================================================\n",
       "\n",
       "Warnings:\n",
       "[1] Standard Errors assume that the covariance matrix of the errors is correctly specified.\n",
       "\"\"\""
      ]
     },
     "execution_count": 83,
     "metadata": {},
     "output_type": "execute_result"
    }
   ],
   "source": [
    "X_std2 = sm.add_constant(X_std2)\n",
    "loan_model2 = sm.OLS(Y, X_std2)\n",
    "loan_model2 = loan_model2.fit()\n",
    "loan_model2.summary()"
   ]
  },
  {
   "cell_type": "markdown",
   "metadata": {},
   "source": [
    "### Full Model Using PCA with Four PCs with Statsmodels"
   ]
  },
  {
   "cell_type": "code",
   "execution_count": 84,
   "metadata": {},
   "outputs": [
    {
     "data": {
      "text/plain": [
       "array([38.88, 59.86, 79.28, 90.73])"
      ]
     },
     "execution_count": 84,
     "metadata": {},
     "output_type": "execute_result"
    }
   ],
   "source": [
    "pca = PCA (n_components=4)\n",
    "X_std_pc4 = pca.fit_transform (X_std)\n",
    "np.cumsum (np.round (pca.explained_variance_ratio_, decimals=4)*100)"
   ]
  },
  {
   "cell_type": "code",
   "execution_count": 85,
   "metadata": {},
   "outputs": [
    {
     "data": {
      "text/html": [
       "<table class=\"simpletable\">\n",
       "<caption>OLS Regression Results</caption>\n",
       "<tr>\n",
       "  <th>Dep. Variable:</th>         <td>IntRate</td>     <th>  R-squared:         </th> <td>   0.752</td>\n",
       "</tr>\n",
       "<tr>\n",
       "  <th>Model:</th>                   <td>OLS</td>       <th>  Adj. R-squared:    </th> <td>   0.751</td>\n",
       "</tr>\n",
       "<tr>\n",
       "  <th>Method:</th>             <td>Least Squares</td>  <th>  F-statistic:       </th> <td>   1321.</td>\n",
       "</tr>\n",
       "<tr>\n",
       "  <th>Date:</th>             <td>Sun, 20 Oct 2019</td> <th>  Prob (F-statistic):</th>  <td>  0.00</td> \n",
       "</tr>\n",
       "<tr>\n",
       "  <th>Time:</th>                 <td>15:46:57</td>     <th>  Log-Likelihood:    </th> <td> -3780.3</td>\n",
       "</tr>\n",
       "<tr>\n",
       "  <th>No. Observations:</th>      <td>  1752</td>      <th>  AIC:               </th> <td>   7571.</td>\n",
       "</tr>\n",
       "<tr>\n",
       "  <th>Df Residuals:</th>          <td>  1747</td>      <th>  BIC:               </th> <td>   7598.</td>\n",
       "</tr>\n",
       "<tr>\n",
       "  <th>Df Model:</th>              <td>     4</td>      <th>                     </th>     <td> </td>   \n",
       "</tr>\n",
       "<tr>\n",
       "  <th>Covariance Type:</th>      <td>nonrobust</td>    <th>                     </th>     <td> </td>   \n",
       "</tr>\n",
       "</table>\n",
       "<table class=\"simpletable\">\n",
       "<tr>\n",
       "    <td></td>       <th>coef</th>     <th>std err</th>      <th>t</th>      <th>P>|t|</th>  <th>[0.025</th>    <th>0.975]</th>  \n",
       "</tr>\n",
       "<tr>\n",
       "  <th>const</th> <td>   13.1208</td> <td>    0.050</td> <td>  261.975</td> <td> 0.000</td> <td>   13.023</td> <td>   13.219</td>\n",
       "</tr>\n",
       "<tr>\n",
       "  <th>x1</th>    <td>    0.6242</td> <td>    0.036</td> <td>   17.377</td> <td> 0.000</td> <td>    0.554</td> <td>    0.695</td>\n",
       "</tr>\n",
       "<tr>\n",
       "  <th>x2</th>    <td>   -3.1363</td> <td>    0.049</td> <td>  -64.139</td> <td> 0.000</td> <td>   -3.232</td> <td>   -3.040</td>\n",
       "</tr>\n",
       "<tr>\n",
       "  <th>x3</th>    <td>    1.4006</td> <td>    0.051</td> <td>   27.553</td> <td> 0.000</td> <td>    1.301</td> <td>    1.500</td>\n",
       "</tr>\n",
       "<tr>\n",
       "  <th>x4</th>    <td>   -0.6918</td> <td>    0.066</td> <td>  -10.448</td> <td> 0.000</td> <td>   -0.822</td> <td>   -0.562</td>\n",
       "</tr>\n",
       "</table>\n",
       "<table class=\"simpletable\">\n",
       "<tr>\n",
       "  <th>Omnibus:</th>       <td>108.354</td> <th>  Durbin-Watson:     </th> <td>   1.926</td>\n",
       "</tr>\n",
       "<tr>\n",
       "  <th>Prob(Omnibus):</th> <td> 0.000</td>  <th>  Jarque-Bera (JB):  </th> <td> 182.499</td>\n",
       "</tr>\n",
       "<tr>\n",
       "  <th>Skew:</th>          <td> 0.473</td>  <th>  Prob(JB):          </th> <td>2.35e-40</td>\n",
       "</tr>\n",
       "<tr>\n",
       "  <th>Kurtosis:</th>      <td> 4.268</td>  <th>  Cond. No.          </th> <td>    1.84</td>\n",
       "</tr>\n",
       "</table><br/><br/>Warnings:<br/>[1] Standard Errors assume that the covariance matrix of the errors is correctly specified."
      ],
      "text/plain": [
       "<class 'statsmodels.iolib.summary.Summary'>\n",
       "\"\"\"\n",
       "                            OLS Regression Results                            \n",
       "==============================================================================\n",
       "Dep. Variable:                IntRate   R-squared:                       0.752\n",
       "Model:                            OLS   Adj. R-squared:                  0.751\n",
       "Method:                 Least Squares   F-statistic:                     1321.\n",
       "Date:                Sun, 20 Oct 2019   Prob (F-statistic):               0.00\n",
       "Time:                        15:46:57   Log-Likelihood:                -3780.3\n",
       "No. Observations:                1752   AIC:                             7571.\n",
       "Df Residuals:                    1747   BIC:                             7598.\n",
       "Df Model:                           4                                         \n",
       "Covariance Type:            nonrobust                                         \n",
       "==============================================================================\n",
       "                 coef    std err          t      P>|t|      [0.025      0.975]\n",
       "------------------------------------------------------------------------------\n",
       "const         13.1208      0.050    261.975      0.000      13.023      13.219\n",
       "x1             0.6242      0.036     17.377      0.000       0.554       0.695\n",
       "x2            -3.1363      0.049    -64.139      0.000      -3.232      -3.040\n",
       "x3             1.4006      0.051     27.553      0.000       1.301       1.500\n",
       "x4            -0.6918      0.066    -10.448      0.000      -0.822      -0.562\n",
       "==============================================================================\n",
       "Omnibus:                      108.354   Durbin-Watson:                   1.926\n",
       "Prob(Omnibus):                  0.000   Jarque-Bera (JB):              182.499\n",
       "Skew:                           0.473   Prob(JB):                     2.35e-40\n",
       "Kurtosis:                       4.268   Cond. No.                         1.84\n",
       "==============================================================================\n",
       "\n",
       "Warnings:\n",
       "[1] Standard Errors assume that the covariance matrix of the errors is correctly specified.\n",
       "\"\"\""
      ]
     },
     "execution_count": 85,
     "metadata": {},
     "output_type": "execute_result"
    }
   ],
   "source": [
    "X_std_pc4 = sm.add_constant (X_std_pc4)\n",
    "loan_model3 = sm.OLS (Y, X_std_pc4)\n",
    "loan_model3 = loan_model3.fit()\n",
    "loan_model3.summary()"
   ]
  },
  {
   "cell_type": "markdown",
   "metadata": {},
   "source": [
    "### Step G: Model Checking With Repeated K-Fold Cross-Validation "
   ]
  },
  {
   "cell_type": "code",
   "execution_count": 86,
   "metadata": {},
   "outputs": [
    {
     "data": {
      "text/plain": [
       "array([[ 1.1276208 , -0.4745259 ,  0.02474645,  0.97751917],\n",
       "       [ 1.02010707, -0.4745259 , -0.20378752,  0.37469848],\n",
       "       [ 3.14350321,  2.10736655,  0.58696046, -0.37882739],\n",
       "       [ 0.05248351, -0.4745259 ,  0.03912104, -0.22812221],\n",
       "       [-0.75386945, -0.4745259 , -0.25844012, -0.98164808]])"
      ]
     },
     "execution_count": 86,
     "metadata": {},
     "output_type": "execute_result"
    }
   ],
   "source": [
    "X_std1 = np.delete(X_std, [2], axis=1)\n",
    "X_std1[:5]"
   ]
  },
  {
   "cell_type": "code",
   "execution_count": 87,
   "metadata": {},
   "outputs": [
    {
     "data": {
      "text/plain": [
       "ID\n",
       "81174     8.90\n",
       "99592    12.12\n",
       "80059    21.98\n",
       "33182    11.71\n",
       "62403    15.31\n",
       "Name: IntRate, dtype: float64"
      ]
     },
     "execution_count": 87,
     "metadata": {},
     "output_type": "execute_result"
    }
   ],
   "source": [
    "Y[:5]"
   ]
  },
  {
   "cell_type": "code",
   "execution_count": 88,
   "metadata": {},
   "outputs": [
    {
     "name": "stdout",
     "output_type": "stream",
     "text": [
      "Mean Score: 0.74833300359109\n"
     ]
    }
   ],
   "source": [
    "scores_list = []\n",
    "for rep in range(128):\n",
    "    lm = linear_model.LinearRegression()\n",
    "    scores = cross_val_score(lm, X_std1, Y, cv=8)\n",
    "    scores_list.append(scores.mean())\n",
    "print ('Mean Score:', sum(scores_list)/len (scores_list))"
   ]
  },
  {
   "cell_type": "code",
   "execution_count": 89,
   "metadata": {},
   "outputs": [],
   "source": [
    "lm = linear_model.LinearRegression()\n",
    "X_train, X_test, Y_train, Y_test = train_test_split(X_std1, Y, random_state=33,test_size=0.2)\n",
    "model = lm.fit(X_train, Y_train)\n",
    "predictions = lm.predict(X_test)"
   ]
  },
  {
   "cell_type": "code",
   "execution_count": 90,
   "metadata": {},
   "outputs": [
    {
     "name": "stdout",
     "output_type": "stream",
     "text": [
      "Score: 0.7834735641438647\n"
     ]
    }
   ],
   "source": [
    "print ('Score:', model.score(X_test, Y_test))"
   ]
  },
  {
   "cell_type": "code",
   "execution_count": 91,
   "metadata": {},
   "outputs": [
    {
     "data": {
      "text/plain": [
       "array([15.69757892,  6.7846537 , 13.53159933,  7.5077869 , 13.94582737])"
      ]
     },
     "execution_count": 91,
     "metadata": {},
     "output_type": "execute_result"
    }
   ],
   "source": [
    "predictions[:5]"
   ]
  },
  {
   "cell_type": "code",
   "execution_count": 92,
   "metadata": {},
   "outputs": [
    {
     "data": {
      "text/plain": [
       "ID\n",
       "68628    14.33\n",
       "23644     5.79\n",
       "55177    13.67\n",
       "26290     8.90\n",
       "24846    13.49\n",
       "Name: IntRate, dtype: float64"
      ]
     },
     "execution_count": 92,
     "metadata": {},
     "output_type": "execute_result"
    }
   ],
   "source": [
    "Y_test[:5]"
   ]
  },
  {
   "cell_type": "code",
   "execution_count": 96,
   "metadata": {},
   "outputs": [
    {
     "data": {
      "image/png": "[encoded data removed]",
      "text/plain": [
       "<Figure size 432x288 with 1 Axes>"
      ]
     },
     "metadata": {},
     "output_type": "display_data"
    }
   ],
   "source": [
    "plt.scatter(Y_test, predictions);\n",
    "plt.xlabel('True Values');\n",
    "plt.ylabel('Predictions');"
   ]
  },
  {
   "cell_type": "code",
   "execution_count": null,
   "metadata": {},
   "outputs": [],
   "source": []
  }
 ],
 "metadata": {
  "kernelspec": {
   "display_name": "Python 3",
   "language": "python",
   "name": "python3"
  },
  "language_info": {
   "codemirror_mode": {
    "name": "ipython",
    "version": 3
   },
   "file_extension": ".py",
   "mimetype": "text/x-python",
   "name": "python",
   "nbconvert_exporter": "python",
   "pygments_lexer": "ipython3",
   "version": "3.7.3"
  }
 },
 "nbformat": 4,
 "nbformat_minor": 2
}
